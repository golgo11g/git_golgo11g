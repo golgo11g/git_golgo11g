{
  "nbformat": 4,
  "nbformat_minor": 0,
  "metadata": {
    "colab": {
      "name": "東京電力需要予測colabipynb",
      "provenance": [],
      "collapsed_sections": [],
      "authorship_tag": "ABX9TyMTtsRjZK/wjySNzClRw0TM",
      "include_colab_link": true
    },
    "kernelspec": {
      "name": "python3",
      "display_name": "Python 3"
    },
    "language_info": {
      "name": "python"
    }
  },
  "cells": [
    {
      "cell_type": "markdown",
      "metadata": {
        "id": "view-in-github",
        "colab_type": "text"
      },
      "source": [
        "<a href=\"https://colab.research.google.com/github/golgo11g/git_golgo11g/blob/master/%E6%9D%B1%E4%BA%AC%E9%9B%BB%E5%8A%9B%E9%9C%80%E8%A6%81%E4%BA%88%E6%B8%ACcolabipynb.ipynb\" target=\"_parent\"><img src=\"https://colab.research.google.com/assets/colab-badge.svg\" alt=\"Open In Colab\"/></a>"
      ]
    },
    {
      "cell_type": "code",
      "metadata": {
        "id": "TmnqMzYluB6V"
      },
      "source": [
        ""
      ],
      "execution_count": null,
      "outputs": []
    },
    {
      "cell_type": "code",
      "metadata": {
        "colab": {
          "base_uri": "https://localhost:8080/"
        },
        "id": "K0qDd_HeuP61",
        "outputId": "96c8e4cb-23c1-4791-d84e-1b5cc4532a6a"
      },
      "source": [
        "!pip3 install pystan"
      ],
      "execution_count": null,
      "outputs": [
        {
          "output_type": "stream",
          "text": [
            "Requirement already satisfied: pystan in /usr/local/lib/python3.7/dist-packages (2.19.1.1)\n",
            "Requirement already satisfied: numpy>=1.7 in /usr/local/lib/python3.7/dist-packages (from pystan) (1.19.5)\n",
            "Requirement already satisfied: Cython!=0.25.1,>=0.22 in /usr/local/lib/python3.7/dist-packages (from pystan) (0.29.23)\n"
          ],
          "name": "stdout"
        }
      ]
    },
    {
      "cell_type": "code",
      "metadata": {
        "colab": {
          "base_uri": "https://localhost:8080/"
        },
        "id": "2nXR5X7UuRSZ",
        "outputId": "2d7f3f66-36d1-4ee7-b61f-9515675a117a"
      },
      "source": [
        "!pip3 install fbprophet"
      ],
      "execution_count": null,
      "outputs": [
        {
          "output_type": "stream",
          "text": [
            "Requirement already satisfied: fbprophet in /usr/local/lib/python3.7/dist-packages (0.7.1)\n",
            "Requirement already satisfied: Cython>=0.22 in /usr/local/lib/python3.7/dist-packages (from fbprophet) (0.29.23)\n",
            "Requirement already satisfied: cmdstanpy==0.9.5 in /usr/local/lib/python3.7/dist-packages (from fbprophet) (0.9.5)\n",
            "Requirement already satisfied: pystan>=2.14 in /usr/local/lib/python3.7/dist-packages (from fbprophet) (2.19.1.1)\n",
            "Requirement already satisfied: numpy>=1.15.4 in /usr/local/lib/python3.7/dist-packages (from fbprophet) (1.19.5)\n",
            "Requirement already satisfied: pandas>=1.0.4 in /usr/local/lib/python3.7/dist-packages (from fbprophet) (1.1.5)\n",
            "Requirement already satisfied: matplotlib>=2.0.0 in /usr/local/lib/python3.7/dist-packages (from fbprophet) (3.2.2)\n",
            "Requirement already satisfied: LunarCalendar>=0.0.9 in /usr/local/lib/python3.7/dist-packages (from fbprophet) (0.0.9)\n",
            "Requirement already satisfied: convertdate>=2.1.2 in /usr/local/lib/python3.7/dist-packages (from fbprophet) (2.3.2)\n",
            "Requirement already satisfied: holidays>=0.10.2 in /usr/local/lib/python3.7/dist-packages (from fbprophet) (0.10.5.2)\n",
            "Requirement already satisfied: setuptools-git>=1.2 in /usr/local/lib/python3.7/dist-packages (from fbprophet) (1.2)\n",
            "Requirement already satisfied: python-dateutil>=2.8.0 in /usr/local/lib/python3.7/dist-packages (from fbprophet) (2.8.1)\n",
            "Requirement already satisfied: tqdm>=4.36.1 in /usr/local/lib/python3.7/dist-packages (from fbprophet) (4.41.1)\n",
            "Requirement already satisfied: pytz>=2017.2 in /usr/local/lib/python3.7/dist-packages (from pandas>=1.0.4->fbprophet) (2018.9)\n",
            "Requirement already satisfied: pyparsing!=2.0.4,!=2.1.2,!=2.1.6,>=2.0.1 in /usr/local/lib/python3.7/dist-packages (from matplotlib>=2.0.0->fbprophet) (2.4.7)\n",
            "Requirement already satisfied: kiwisolver>=1.0.1 in /usr/local/lib/python3.7/dist-packages (from matplotlib>=2.0.0->fbprophet) (1.3.1)\n",
            "Requirement already satisfied: cycler>=0.10 in /usr/local/lib/python3.7/dist-packages (from matplotlib>=2.0.0->fbprophet) (0.10.0)\n",
            "Requirement already satisfied: ephem>=3.7.5.3 in /usr/local/lib/python3.7/dist-packages (from LunarCalendar>=0.0.9->fbprophet) (3.7.7.1)\n",
            "Requirement already satisfied: pymeeus<=1,>=0.3.13 in /usr/local/lib/python3.7/dist-packages (from convertdate>=2.1.2->fbprophet) (0.5.11)\n",
            "Requirement already satisfied: six in /usr/local/lib/python3.7/dist-packages (from holidays>=0.10.2->fbprophet) (1.15.0)\n",
            "Requirement already satisfied: hijri-converter in /usr/local/lib/python3.7/dist-packages (from holidays>=0.10.2->fbprophet) (2.1.1)\n",
            "Requirement already satisfied: korean-lunar-calendar in /usr/local/lib/python3.7/dist-packages (from holidays>=0.10.2->fbprophet) (0.2.1)\n"
          ],
          "name": "stdout"
        }
      ]
    },
    {
      "cell_type": "code",
      "metadata": {
        "id": "bsFfn6tHuYmN"
      },
      "source": [
        "import pandas as pd\n",
        "from fbprophet import Prophet"
      ],
      "execution_count": 2,
      "outputs": []
    },
    {
      "cell_type": "code",
      "metadata": {
        "id": "YBQ3IiRKujcT"
      },
      "source": [
        "_df = pd.read_csv('https://www.tepco.co.jp/forecast/html/images/juyo-2017.csv',encoding = 'shift-jis')"
      ],
      "execution_count": 3,
      "outputs": []
    },
    {
      "cell_type": "code",
      "metadata": {
        "id": "2HzKpqrouvEh"
      },
      "source": [
        "_df = pd.read_csv('https://www.tepco.co.jp/forecast/html/images/juyo-2017.csv',encoding = 'shift-jis',skiprows=1)"
      ],
      "execution_count": 4,
      "outputs": []
    },
    {
      "cell_type": "code",
      "metadata": {
        "colab": {
          "base_uri": "https://localhost:8080/",
          "height": 419
        },
        "id": "0VhMmCY7u4Lw",
        "outputId": "f133a2e3-1349-4d95-e1ad-b6154f503083"
      },
      "source": [
        "_df"
      ],
      "execution_count": 5,
      "outputs": [
        {
          "output_type": "execute_result",
          "data": {
            "text/html": [
              "<div>\n",
              "<style scoped>\n",
              "    .dataframe tbody tr th:only-of-type {\n",
              "        vertical-align: middle;\n",
              "    }\n",
              "\n",
              "    .dataframe tbody tr th {\n",
              "        vertical-align: top;\n",
              "    }\n",
              "\n",
              "    .dataframe thead th {\n",
              "        text-align: right;\n",
              "    }\n",
              "</style>\n",
              "<table border=\"1\" class=\"dataframe\">\n",
              "  <thead>\n",
              "    <tr style=\"text-align: right;\">\n",
              "      <th></th>\n",
              "      <th>DATE</th>\n",
              "      <th>TIME</th>\n",
              "      <th>実績(万kW)</th>\n",
              "    </tr>\n",
              "  </thead>\n",
              "  <tbody>\n",
              "    <tr>\n",
              "      <th>0</th>\n",
              "      <td>2017/1/1</td>\n",
              "      <td>0:00</td>\n",
              "      <td>2783</td>\n",
              "    </tr>\n",
              "    <tr>\n",
              "      <th>1</th>\n",
              "      <td>2017/1/1</td>\n",
              "      <td>1:00</td>\n",
              "      <td>2634</td>\n",
              "    </tr>\n",
              "    <tr>\n",
              "      <th>2</th>\n",
              "      <td>2017/1/1</td>\n",
              "      <td>2:00</td>\n",
              "      <td>2520</td>\n",
              "    </tr>\n",
              "    <tr>\n",
              "      <th>3</th>\n",
              "      <td>2017/1/1</td>\n",
              "      <td>3:00</td>\n",
              "      <td>2438</td>\n",
              "    </tr>\n",
              "    <tr>\n",
              "      <th>4</th>\n",
              "      <td>2017/1/1</td>\n",
              "      <td>4:00</td>\n",
              "      <td>2389</td>\n",
              "    </tr>\n",
              "    <tr>\n",
              "      <th>...</th>\n",
              "      <td>...</td>\n",
              "      <td>...</td>\n",
              "      <td>...</td>\n",
              "    </tr>\n",
              "    <tr>\n",
              "      <th>8755</th>\n",
              "      <td>2017/12/31</td>\n",
              "      <td>19:00</td>\n",
              "      <td>3527</td>\n",
              "    </tr>\n",
              "    <tr>\n",
              "      <th>8756</th>\n",
              "      <td>2017/12/31</td>\n",
              "      <td>20:00</td>\n",
              "      <td>3443</td>\n",
              "    </tr>\n",
              "    <tr>\n",
              "      <th>8757</th>\n",
              "      <td>2017/12/31</td>\n",
              "      <td>21:00</td>\n",
              "      <td>3335</td>\n",
              "    </tr>\n",
              "    <tr>\n",
              "      <th>8758</th>\n",
              "      <td>2017/12/31</td>\n",
              "      <td>22:00</td>\n",
              "      <td>3200</td>\n",
              "    </tr>\n",
              "    <tr>\n",
              "      <th>8759</th>\n",
              "      <td>2017/12/31</td>\n",
              "      <td>23:00</td>\n",
              "      <td>3141</td>\n",
              "    </tr>\n",
              "  </tbody>\n",
              "</table>\n",
              "<p>8760 rows × 3 columns</p>\n",
              "</div>"
            ],
            "text/plain": [
              "            DATE   TIME  実績(万kW)\n",
              "0       2017/1/1   0:00     2783\n",
              "1       2017/1/1   1:00     2634\n",
              "2       2017/1/1   2:00     2520\n",
              "3       2017/1/1   3:00     2438\n",
              "4       2017/1/1   4:00     2389\n",
              "...          ...    ...      ...\n",
              "8755  2017/12/31  19:00     3527\n",
              "8756  2017/12/31  20:00     3443\n",
              "8757  2017/12/31  21:00     3335\n",
              "8758  2017/12/31  22:00     3200\n",
              "8759  2017/12/31  23:00     3141\n",
              "\n",
              "[8760 rows x 3 columns]"
            ]
          },
          "metadata": {
            "tags": []
          },
          "execution_count": 5
        }
      ]
    },
    {
      "cell_type": "code",
      "metadata": {
        "colab": {
          "base_uri": "https://localhost:8080/"
        },
        "id": "c8O9zUxFu6wa",
        "outputId": "de7fac04-951d-41f6-bccd-032a0589c816"
      },
      "source": [
        "_df.shape"
      ],
      "execution_count": 6,
      "outputs": [
        {
          "output_type": "execute_result",
          "data": {
            "text/plain": [
              "(8760, 3)"
            ]
          },
          "metadata": {
            "tags": []
          },
          "execution_count": 6
        }
      ]
    },
    {
      "cell_type": "code",
      "metadata": {
        "id": "nKXaTAElu-ov"
      },
      "source": [
        "years = [2017, 2018, 2019]\n",
        "# year = years[2]\n",
        "df = pd.DataFrame()\n",
        "for year in years:\n",
        "    _df = pd.read_csv(f'https://www.tepco.co.jp/forecast/html/images/juyo-{year}.csv',encoding = 'shift-jis',skiprows=1)\n",
        "    df = pd.concat([df, _df], axis=0)"
      ],
      "execution_count": 7,
      "outputs": []
    },
    {
      "cell_type": "code",
      "metadata": {
        "colab": {
          "base_uri": "https://localhost:8080/",
          "height": 419
        },
        "id": "E_7ft_mr9CSB",
        "outputId": "4904f816-2592-48f0-d47c-fc83875ece83"
      },
      "source": [
        "df"
      ],
      "execution_count": 8,
      "outputs": [
        {
          "output_type": "execute_result",
          "data": {
            "text/html": [
              "<div>\n",
              "<style scoped>\n",
              "    .dataframe tbody tr th:only-of-type {\n",
              "        vertical-align: middle;\n",
              "    }\n",
              "\n",
              "    .dataframe tbody tr th {\n",
              "        vertical-align: top;\n",
              "    }\n",
              "\n",
              "    .dataframe thead th {\n",
              "        text-align: right;\n",
              "    }\n",
              "</style>\n",
              "<table border=\"1\" class=\"dataframe\">\n",
              "  <thead>\n",
              "    <tr style=\"text-align: right;\">\n",
              "      <th></th>\n",
              "      <th>DATE</th>\n",
              "      <th>TIME</th>\n",
              "      <th>実績(万kW)</th>\n",
              "    </tr>\n",
              "  </thead>\n",
              "  <tbody>\n",
              "    <tr>\n",
              "      <th>0</th>\n",
              "      <td>2017/1/1</td>\n",
              "      <td>0:00</td>\n",
              "      <td>2783</td>\n",
              "    </tr>\n",
              "    <tr>\n",
              "      <th>1</th>\n",
              "      <td>2017/1/1</td>\n",
              "      <td>1:00</td>\n",
              "      <td>2634</td>\n",
              "    </tr>\n",
              "    <tr>\n",
              "      <th>2</th>\n",
              "      <td>2017/1/1</td>\n",
              "      <td>2:00</td>\n",
              "      <td>2520</td>\n",
              "    </tr>\n",
              "    <tr>\n",
              "      <th>3</th>\n",
              "      <td>2017/1/1</td>\n",
              "      <td>3:00</td>\n",
              "      <td>2438</td>\n",
              "    </tr>\n",
              "    <tr>\n",
              "      <th>4</th>\n",
              "      <td>2017/1/1</td>\n",
              "      <td>4:00</td>\n",
              "      <td>2389</td>\n",
              "    </tr>\n",
              "    <tr>\n",
              "      <th>...</th>\n",
              "      <td>...</td>\n",
              "      <td>...</td>\n",
              "      <td>...</td>\n",
              "    </tr>\n",
              "    <tr>\n",
              "      <th>8755</th>\n",
              "      <td>2019/12/31</td>\n",
              "      <td>19:00</td>\n",
              "      <td>3302</td>\n",
              "    </tr>\n",
              "    <tr>\n",
              "      <th>8756</th>\n",
              "      <td>2019/12/31</td>\n",
              "      <td>20:00</td>\n",
              "      <td>3263</td>\n",
              "    </tr>\n",
              "    <tr>\n",
              "      <th>8757</th>\n",
              "      <td>2019/12/31</td>\n",
              "      <td>21:00</td>\n",
              "      <td>3182</td>\n",
              "    </tr>\n",
              "    <tr>\n",
              "      <th>8758</th>\n",
              "      <td>2019/12/31</td>\n",
              "      <td>22:00</td>\n",
              "      <td>3077</td>\n",
              "    </tr>\n",
              "    <tr>\n",
              "      <th>8759</th>\n",
              "      <td>2019/12/31</td>\n",
              "      <td>23:00</td>\n",
              "      <td>3029</td>\n",
              "    </tr>\n",
              "  </tbody>\n",
              "</table>\n",
              "<p>26280 rows × 3 columns</p>\n",
              "</div>"
            ],
            "text/plain": [
              "            DATE   TIME  実績(万kW)\n",
              "0       2017/1/1   0:00     2783\n",
              "1       2017/1/1   1:00     2634\n",
              "2       2017/1/1   2:00     2520\n",
              "3       2017/1/1   3:00     2438\n",
              "4       2017/1/1   4:00     2389\n",
              "...          ...    ...      ...\n",
              "8755  2019/12/31  19:00     3302\n",
              "8756  2019/12/31  20:00     3263\n",
              "8757  2019/12/31  21:00     3182\n",
              "8758  2019/12/31  22:00     3077\n",
              "8759  2019/12/31  23:00     3029\n",
              "\n",
              "[26280 rows x 3 columns]"
            ]
          },
          "metadata": {
            "tags": []
          },
          "execution_count": 8
        }
      ]
    },
    {
      "cell_type": "code",
      "metadata": {
        "colab": {
          "base_uri": "https://localhost:8080/",
          "height": 204
        },
        "id": "6Jzmcu-49ENb",
        "outputId": "35f85507-82c4-48a2-e018-a8f7351bd57b"
      },
      "source": [
        "df.head()"
      ],
      "execution_count": 9,
      "outputs": [
        {
          "output_type": "execute_result",
          "data": {
            "text/html": [
              "<div>\n",
              "<style scoped>\n",
              "    .dataframe tbody tr th:only-of-type {\n",
              "        vertical-align: middle;\n",
              "    }\n",
              "\n",
              "    .dataframe tbody tr th {\n",
              "        vertical-align: top;\n",
              "    }\n",
              "\n",
              "    .dataframe thead th {\n",
              "        text-align: right;\n",
              "    }\n",
              "</style>\n",
              "<table border=\"1\" class=\"dataframe\">\n",
              "  <thead>\n",
              "    <tr style=\"text-align: right;\">\n",
              "      <th></th>\n",
              "      <th>DATE</th>\n",
              "      <th>TIME</th>\n",
              "      <th>実績(万kW)</th>\n",
              "    </tr>\n",
              "  </thead>\n",
              "  <tbody>\n",
              "    <tr>\n",
              "      <th>0</th>\n",
              "      <td>2017/1/1</td>\n",
              "      <td>0:00</td>\n",
              "      <td>2783</td>\n",
              "    </tr>\n",
              "    <tr>\n",
              "      <th>1</th>\n",
              "      <td>2017/1/1</td>\n",
              "      <td>1:00</td>\n",
              "      <td>2634</td>\n",
              "    </tr>\n",
              "    <tr>\n",
              "      <th>2</th>\n",
              "      <td>2017/1/1</td>\n",
              "      <td>2:00</td>\n",
              "      <td>2520</td>\n",
              "    </tr>\n",
              "    <tr>\n",
              "      <th>3</th>\n",
              "      <td>2017/1/1</td>\n",
              "      <td>3:00</td>\n",
              "      <td>2438</td>\n",
              "    </tr>\n",
              "    <tr>\n",
              "      <th>4</th>\n",
              "      <td>2017/1/1</td>\n",
              "      <td>4:00</td>\n",
              "      <td>2389</td>\n",
              "    </tr>\n",
              "  </tbody>\n",
              "</table>\n",
              "</div>"
            ],
            "text/plain": [
              "       DATE  TIME  実績(万kW)\n",
              "0  2017/1/1  0:00     2783\n",
              "1  2017/1/1  1:00     2634\n",
              "2  2017/1/1  2:00     2520\n",
              "3  2017/1/1  3:00     2438\n",
              "4  2017/1/1  4:00     2389"
            ]
          },
          "metadata": {
            "tags": []
          },
          "execution_count": 9
        }
      ]
    },
    {
      "cell_type": "code",
      "metadata": {
        "colab": {
          "base_uri": "https://localhost:8080/",
          "height": 204
        },
        "id": "jBOfbPNK9He-",
        "outputId": "d25f95ca-866c-4e2f-c82c-d3d91c52895d"
      },
      "source": [
        "df.tail()"
      ],
      "execution_count": 10,
      "outputs": [
        {
          "output_type": "execute_result",
          "data": {
            "text/html": [
              "<div>\n",
              "<style scoped>\n",
              "    .dataframe tbody tr th:only-of-type {\n",
              "        vertical-align: middle;\n",
              "    }\n",
              "\n",
              "    .dataframe tbody tr th {\n",
              "        vertical-align: top;\n",
              "    }\n",
              "\n",
              "    .dataframe thead th {\n",
              "        text-align: right;\n",
              "    }\n",
              "</style>\n",
              "<table border=\"1\" class=\"dataframe\">\n",
              "  <thead>\n",
              "    <tr style=\"text-align: right;\">\n",
              "      <th></th>\n",
              "      <th>DATE</th>\n",
              "      <th>TIME</th>\n",
              "      <th>実績(万kW)</th>\n",
              "    </tr>\n",
              "  </thead>\n",
              "  <tbody>\n",
              "    <tr>\n",
              "      <th>8755</th>\n",
              "      <td>2019/12/31</td>\n",
              "      <td>19:00</td>\n",
              "      <td>3302</td>\n",
              "    </tr>\n",
              "    <tr>\n",
              "      <th>8756</th>\n",
              "      <td>2019/12/31</td>\n",
              "      <td>20:00</td>\n",
              "      <td>3263</td>\n",
              "    </tr>\n",
              "    <tr>\n",
              "      <th>8757</th>\n",
              "      <td>2019/12/31</td>\n",
              "      <td>21:00</td>\n",
              "      <td>3182</td>\n",
              "    </tr>\n",
              "    <tr>\n",
              "      <th>8758</th>\n",
              "      <td>2019/12/31</td>\n",
              "      <td>22:00</td>\n",
              "      <td>3077</td>\n",
              "    </tr>\n",
              "    <tr>\n",
              "      <th>8759</th>\n",
              "      <td>2019/12/31</td>\n",
              "      <td>23:00</td>\n",
              "      <td>3029</td>\n",
              "    </tr>\n",
              "  </tbody>\n",
              "</table>\n",
              "</div>"
            ],
            "text/plain": [
              "            DATE   TIME  実績(万kW)\n",
              "8755  2019/12/31  19:00     3302\n",
              "8756  2019/12/31  20:00     3263\n",
              "8757  2019/12/31  21:00     3182\n",
              "8758  2019/12/31  22:00     3077\n",
              "8759  2019/12/31  23:00     3029"
            ]
          },
          "metadata": {
            "tags": []
          },
          "execution_count": 10
        }
      ]
    },
    {
      "cell_type": "code",
      "metadata": {
        "colab": {
          "base_uri": "https://localhost:8080/"
        },
        "id": "1VSoyJTz9KUO",
        "outputId": "3fc8b91a-34c5-4d2b-ce27-ac1b90450e93"
      },
      "source": [
        "df.shape"
      ],
      "execution_count": 11,
      "outputs": [
        {
          "output_type": "execute_result",
          "data": {
            "text/plain": [
              "(26280, 3)"
            ]
          },
          "metadata": {
            "tags": []
          },
          "execution_count": 11
        }
      ]
    },
    {
      "cell_type": "code",
      "metadata": {
        "id": "MBAkEHkA9NCl"
      },
      "source": [
        "df = df.reset_index(drop=True)"
      ],
      "execution_count": 12,
      "outputs": []
    },
    {
      "cell_type": "code",
      "metadata": {
        "colab": {
          "base_uri": "https://localhost:8080/",
          "height": 419
        },
        "id": "GbHJmXAK9TQF",
        "outputId": "e3341e84-6017-4597-b1c3-eba05326999b"
      },
      "source": [
        "df"
      ],
      "execution_count": 13,
      "outputs": [
        {
          "output_type": "execute_result",
          "data": {
            "text/html": [
              "<div>\n",
              "<style scoped>\n",
              "    .dataframe tbody tr th:only-of-type {\n",
              "        vertical-align: middle;\n",
              "    }\n",
              "\n",
              "    .dataframe tbody tr th {\n",
              "        vertical-align: top;\n",
              "    }\n",
              "\n",
              "    .dataframe thead th {\n",
              "        text-align: right;\n",
              "    }\n",
              "</style>\n",
              "<table border=\"1\" class=\"dataframe\">\n",
              "  <thead>\n",
              "    <tr style=\"text-align: right;\">\n",
              "      <th></th>\n",
              "      <th>DATE</th>\n",
              "      <th>TIME</th>\n",
              "      <th>実績(万kW)</th>\n",
              "    </tr>\n",
              "  </thead>\n",
              "  <tbody>\n",
              "    <tr>\n",
              "      <th>0</th>\n",
              "      <td>2017/1/1</td>\n",
              "      <td>0:00</td>\n",
              "      <td>2783</td>\n",
              "    </tr>\n",
              "    <tr>\n",
              "      <th>1</th>\n",
              "      <td>2017/1/1</td>\n",
              "      <td>1:00</td>\n",
              "      <td>2634</td>\n",
              "    </tr>\n",
              "    <tr>\n",
              "      <th>2</th>\n",
              "      <td>2017/1/1</td>\n",
              "      <td>2:00</td>\n",
              "      <td>2520</td>\n",
              "    </tr>\n",
              "    <tr>\n",
              "      <th>3</th>\n",
              "      <td>2017/1/1</td>\n",
              "      <td>3:00</td>\n",
              "      <td>2438</td>\n",
              "    </tr>\n",
              "    <tr>\n",
              "      <th>4</th>\n",
              "      <td>2017/1/1</td>\n",
              "      <td>4:00</td>\n",
              "      <td>2389</td>\n",
              "    </tr>\n",
              "    <tr>\n",
              "      <th>...</th>\n",
              "      <td>...</td>\n",
              "      <td>...</td>\n",
              "      <td>...</td>\n",
              "    </tr>\n",
              "    <tr>\n",
              "      <th>26275</th>\n",
              "      <td>2019/12/31</td>\n",
              "      <td>19:00</td>\n",
              "      <td>3302</td>\n",
              "    </tr>\n",
              "    <tr>\n",
              "      <th>26276</th>\n",
              "      <td>2019/12/31</td>\n",
              "      <td>20:00</td>\n",
              "      <td>3263</td>\n",
              "    </tr>\n",
              "    <tr>\n",
              "      <th>26277</th>\n",
              "      <td>2019/12/31</td>\n",
              "      <td>21:00</td>\n",
              "      <td>3182</td>\n",
              "    </tr>\n",
              "    <tr>\n",
              "      <th>26278</th>\n",
              "      <td>2019/12/31</td>\n",
              "      <td>22:00</td>\n",
              "      <td>3077</td>\n",
              "    </tr>\n",
              "    <tr>\n",
              "      <th>26279</th>\n",
              "      <td>2019/12/31</td>\n",
              "      <td>23:00</td>\n",
              "      <td>3029</td>\n",
              "    </tr>\n",
              "  </tbody>\n",
              "</table>\n",
              "<p>26280 rows × 3 columns</p>\n",
              "</div>"
            ],
            "text/plain": [
              "             DATE   TIME  実績(万kW)\n",
              "0        2017/1/1   0:00     2783\n",
              "1        2017/1/1   1:00     2634\n",
              "2        2017/1/1   2:00     2520\n",
              "3        2017/1/1   3:00     2438\n",
              "4        2017/1/1   4:00     2389\n",
              "...           ...    ...      ...\n",
              "26275  2019/12/31  19:00     3302\n",
              "26276  2019/12/31  20:00     3263\n",
              "26277  2019/12/31  21:00     3182\n",
              "26278  2019/12/31  22:00     3077\n",
              "26279  2019/12/31  23:00     3029\n",
              "\n",
              "[26280 rows x 3 columns]"
            ]
          },
          "metadata": {
            "tags": []
          },
          "execution_count": 13
        }
      ]
    },
    {
      "cell_type": "code",
      "metadata": {
        "colab": {
          "base_uri": "https://localhost:8080/",
          "height": 35
        },
        "id": "8Wg84iwN9UB3",
        "outputId": "dcbded08-e0ff-4aac-a623-153fa8ae242e"
      },
      "source": [
        "df['DATE'][0]"
      ],
      "execution_count": 14,
      "outputs": [
        {
          "output_type": "execute_result",
          "data": {
            "application/vnd.google.colaboratory.intrinsic+json": {
              "type": "string"
            },
            "text/plain": [
              "'2017/1/1'"
            ]
          },
          "metadata": {
            "tags": []
          },
          "execution_count": 14
        }
      ]
    },
    {
      "cell_type": "code",
      "metadata": {
        "colab": {
          "base_uri": "https://localhost:8080/",
          "height": 35
        },
        "id": "84mwAJf_9Wlv",
        "outputId": "c5685f71-ce85-436c-9952-f9cd2b17e346"
      },
      "source": [
        "df['TIME'][0]"
      ],
      "execution_count": 15,
      "outputs": [
        {
          "output_type": "execute_result",
          "data": {
            "application/vnd.google.colaboratory.intrinsic+json": {
              "type": "string"
            },
            "text/plain": [
              "'0:00'"
            ]
          },
          "metadata": {
            "tags": []
          },
          "execution_count": 15
        }
      ]
    },
    {
      "cell_type": "code",
      "metadata": {
        "colab": {
          "base_uri": "https://localhost:8080/",
          "height": 35
        },
        "id": "RWMa_Wdk9ZHP",
        "outputId": "7841d72b-3b23-4386-8b81-6296e7994438"
      },
      "source": [
        "date = df['DATE'][0]\n",
        "time = df['TIME'][0]\n",
        "str_datetime = f'{date} {time}'\n",
        "str_datetime"
      ],
      "execution_count": 16,
      "outputs": [
        {
          "output_type": "execute_result",
          "data": {
            "application/vnd.google.colaboratory.intrinsic+json": {
              "type": "string"
            },
            "text/plain": [
              "'2017/1/1 0:00'"
            ]
          },
          "metadata": {
            "tags": []
          },
          "execution_count": 16
        }
      ]
    },
    {
      "cell_type": "code",
      "metadata": {
        "id": "cbi52ucu9b0a"
      },
      "source": [
        "from datetime import datetime as dt"
      ],
      "execution_count": 17,
      "outputs": []
    },
    {
      "cell_type": "code",
      "metadata": {
        "colab": {
          "base_uri": "https://localhost:8080/"
        },
        "id": "Bmwx6uBk9evF",
        "outputId": "d6b102de-4d97-49a8-e66b-70dd1a5e6308"
      },
      "source": [
        "datetime = dt.strptime(str_datetime, '%Y/%m/%d %H:%M')\n",
        "datetime"
      ],
      "execution_count": 18,
      "outputs": [
        {
          "output_type": "execute_result",
          "data": {
            "text/plain": [
              "datetime.datetime(2017, 1, 1, 0, 0)"
            ]
          },
          "metadata": {
            "tags": []
          },
          "execution_count": 18
        }
      ]
    },
    {
      "cell_type": "code",
      "metadata": {
        "id": "OTdLblVR9iIj"
      },
      "source": [
        "datetimes = []\n",
        "\n",
        "for index, datum in df.iterrows():\n",
        "    date = datum['DATE']\n",
        "    time = datum['TIME']\n",
        "    str_datetime = f'{date} {time}'\n",
        "    datetime = dt.strptime(str_datetime, '%Y/%m/%d %H:%M')\n",
        "    datetimes.append(datetime)"
      ],
      "execution_count": 19,
      "outputs": []
    },
    {
      "cell_type": "code",
      "metadata": {
        "colab": {
          "base_uri": "https://localhost:8080/"
        },
        "id": "B-f6iFJg9kxx",
        "outputId": "c729763d-c89d-4804-9a50-406f3bb04fd9"
      },
      "source": [
        "datetimes[:3]"
      ],
      "execution_count": 20,
      "outputs": [
        {
          "output_type": "execute_result",
          "data": {
            "text/plain": [
              "[datetime.datetime(2017, 1, 1, 0, 0),\n",
              " datetime.datetime(2017, 1, 1, 1, 0),\n",
              " datetime.datetime(2017, 1, 1, 2, 0)]"
            ]
          },
          "metadata": {
            "tags": []
          },
          "execution_count": 20
        }
      ]
    },
    {
      "cell_type": "code",
      "metadata": {
        "id": "olCoIRbm9nzF"
      },
      "source": [
        "df['ds'] = datetimes"
      ],
      "execution_count": 21,
      "outputs": []
    },
    {
      "cell_type": "code",
      "metadata": {
        "colab": {
          "base_uri": "https://localhost:8080/",
          "height": 204
        },
        "id": "u8TXuOom9pq-",
        "outputId": "fdc44892-5c7a-4fa4-a581-219b815359dd"
      },
      "source": [
        "df.head()"
      ],
      "execution_count": 22,
      "outputs": [
        {
          "output_type": "execute_result",
          "data": {
            "text/html": [
              "<div>\n",
              "<style scoped>\n",
              "    .dataframe tbody tr th:only-of-type {\n",
              "        vertical-align: middle;\n",
              "    }\n",
              "\n",
              "    .dataframe tbody tr th {\n",
              "        vertical-align: top;\n",
              "    }\n",
              "\n",
              "    .dataframe thead th {\n",
              "        text-align: right;\n",
              "    }\n",
              "</style>\n",
              "<table border=\"1\" class=\"dataframe\">\n",
              "  <thead>\n",
              "    <tr style=\"text-align: right;\">\n",
              "      <th></th>\n",
              "      <th>DATE</th>\n",
              "      <th>TIME</th>\n",
              "      <th>実績(万kW)</th>\n",
              "      <th>ds</th>\n",
              "    </tr>\n",
              "  </thead>\n",
              "  <tbody>\n",
              "    <tr>\n",
              "      <th>0</th>\n",
              "      <td>2017/1/1</td>\n",
              "      <td>0:00</td>\n",
              "      <td>2783</td>\n",
              "      <td>2017-01-01 00:00:00</td>\n",
              "    </tr>\n",
              "    <tr>\n",
              "      <th>1</th>\n",
              "      <td>2017/1/1</td>\n",
              "      <td>1:00</td>\n",
              "      <td>2634</td>\n",
              "      <td>2017-01-01 01:00:00</td>\n",
              "    </tr>\n",
              "    <tr>\n",
              "      <th>2</th>\n",
              "      <td>2017/1/1</td>\n",
              "      <td>2:00</td>\n",
              "      <td>2520</td>\n",
              "      <td>2017-01-01 02:00:00</td>\n",
              "    </tr>\n",
              "    <tr>\n",
              "      <th>3</th>\n",
              "      <td>2017/1/1</td>\n",
              "      <td>3:00</td>\n",
              "      <td>2438</td>\n",
              "      <td>2017-01-01 03:00:00</td>\n",
              "    </tr>\n",
              "    <tr>\n",
              "      <th>4</th>\n",
              "      <td>2017/1/1</td>\n",
              "      <td>4:00</td>\n",
              "      <td>2389</td>\n",
              "      <td>2017-01-01 04:00:00</td>\n",
              "    </tr>\n",
              "  </tbody>\n",
              "</table>\n",
              "</div>"
            ],
            "text/plain": [
              "       DATE  TIME  実績(万kW)                  ds\n",
              "0  2017/1/1  0:00     2783 2017-01-01 00:00:00\n",
              "1  2017/1/1  1:00     2634 2017-01-01 01:00:00\n",
              "2  2017/1/1  2:00     2520 2017-01-01 02:00:00\n",
              "3  2017/1/1  3:00     2438 2017-01-01 03:00:00\n",
              "4  2017/1/1  4:00     2389 2017-01-01 04:00:00"
            ]
          },
          "metadata": {
            "tags": []
          },
          "execution_count": 22
        }
      ]
    },
    {
      "cell_type": "code",
      "metadata": {
        "id": "titjCFMv9r81"
      },
      "source": [
        "df = df.rename(columns={'実績(万kW)': 'y'})"
      ],
      "execution_count": 23,
      "outputs": []
    },
    {
      "cell_type": "code",
      "metadata": {
        "id": "K4TL5KKx9vTw"
      },
      "source": [
        ""
      ],
      "execution_count": null,
      "outputs": []
    },
    {
      "cell_type": "markdown",
      "metadata": {
        "id": "iCsCtDur9yEc"
      },
      "source": [
        "前処理完了、予測モデルの構築"
      ]
    },
    {
      "cell_type": "code",
      "metadata": {
        "id": "5sFUE9Zd91to"
      },
      "source": [
        "model = Prophet()\n"
      ],
      "execution_count": 24,
      "outputs": []
    },
    {
      "cell_type": "code",
      "metadata": {
        "colab": {
          "base_uri": "https://localhost:8080/"
        },
        "id": "UQ0lMThx96qk",
        "outputId": "3af29367-e6f7-4beb-ee09-6f80926743c5"
      },
      "source": [
        "model.fit(df)"
      ],
      "execution_count": 25,
      "outputs": [
        {
          "output_type": "stream",
          "text": [
            "INFO:numexpr.utils:NumExpr defaulting to 2 threads.\n"
          ],
          "name": "stderr"
        },
        {
          "output_type": "execute_result",
          "data": {
            "text/plain": [
              "<fbprophet.forecaster.Prophet at 0x7fdbf93cf990>"
            ]
          },
          "metadata": {
            "tags": []
          },
          "execution_count": 25
        }
      ]
    },
    {
      "cell_type": "code",
      "metadata": {
        "colab": {
          "base_uri": "https://localhost:8080/",
          "height": 419
        },
        "id": "wNzSlzAL9-G3",
        "outputId": "84f7eca2-88fc-4ecd-ddf1-0163983bbe2b"
      },
      "source": [
        "df"
      ],
      "execution_count": 26,
      "outputs": [
        {
          "output_type": "execute_result",
          "data": {
            "text/html": [
              "<div>\n",
              "<style scoped>\n",
              "    .dataframe tbody tr th:only-of-type {\n",
              "        vertical-align: middle;\n",
              "    }\n",
              "\n",
              "    .dataframe tbody tr th {\n",
              "        vertical-align: top;\n",
              "    }\n",
              "\n",
              "    .dataframe thead th {\n",
              "        text-align: right;\n",
              "    }\n",
              "</style>\n",
              "<table border=\"1\" class=\"dataframe\">\n",
              "  <thead>\n",
              "    <tr style=\"text-align: right;\">\n",
              "      <th></th>\n",
              "      <th>DATE</th>\n",
              "      <th>TIME</th>\n",
              "      <th>y</th>\n",
              "      <th>ds</th>\n",
              "    </tr>\n",
              "  </thead>\n",
              "  <tbody>\n",
              "    <tr>\n",
              "      <th>0</th>\n",
              "      <td>2017/1/1</td>\n",
              "      <td>0:00</td>\n",
              "      <td>2783</td>\n",
              "      <td>2017-01-01 00:00:00</td>\n",
              "    </tr>\n",
              "    <tr>\n",
              "      <th>1</th>\n",
              "      <td>2017/1/1</td>\n",
              "      <td>1:00</td>\n",
              "      <td>2634</td>\n",
              "      <td>2017-01-01 01:00:00</td>\n",
              "    </tr>\n",
              "    <tr>\n",
              "      <th>2</th>\n",
              "      <td>2017/1/1</td>\n",
              "      <td>2:00</td>\n",
              "      <td>2520</td>\n",
              "      <td>2017-01-01 02:00:00</td>\n",
              "    </tr>\n",
              "    <tr>\n",
              "      <th>3</th>\n",
              "      <td>2017/1/1</td>\n",
              "      <td>3:00</td>\n",
              "      <td>2438</td>\n",
              "      <td>2017-01-01 03:00:00</td>\n",
              "    </tr>\n",
              "    <tr>\n",
              "      <th>4</th>\n",
              "      <td>2017/1/1</td>\n",
              "      <td>4:00</td>\n",
              "      <td>2389</td>\n",
              "      <td>2017-01-01 04:00:00</td>\n",
              "    </tr>\n",
              "    <tr>\n",
              "      <th>...</th>\n",
              "      <td>...</td>\n",
              "      <td>...</td>\n",
              "      <td>...</td>\n",
              "      <td>...</td>\n",
              "    </tr>\n",
              "    <tr>\n",
              "      <th>26275</th>\n",
              "      <td>2019/12/31</td>\n",
              "      <td>19:00</td>\n",
              "      <td>3302</td>\n",
              "      <td>2019-12-31 19:00:00</td>\n",
              "    </tr>\n",
              "    <tr>\n",
              "      <th>26276</th>\n",
              "      <td>2019/12/31</td>\n",
              "      <td>20:00</td>\n",
              "      <td>3263</td>\n",
              "      <td>2019-12-31 20:00:00</td>\n",
              "    </tr>\n",
              "    <tr>\n",
              "      <th>26277</th>\n",
              "      <td>2019/12/31</td>\n",
              "      <td>21:00</td>\n",
              "      <td>3182</td>\n",
              "      <td>2019-12-31 21:00:00</td>\n",
              "    </tr>\n",
              "    <tr>\n",
              "      <th>26278</th>\n",
              "      <td>2019/12/31</td>\n",
              "      <td>22:00</td>\n",
              "      <td>3077</td>\n",
              "      <td>2019-12-31 22:00:00</td>\n",
              "    </tr>\n",
              "    <tr>\n",
              "      <th>26279</th>\n",
              "      <td>2019/12/31</td>\n",
              "      <td>23:00</td>\n",
              "      <td>3029</td>\n",
              "      <td>2019-12-31 23:00:00</td>\n",
              "    </tr>\n",
              "  </tbody>\n",
              "</table>\n",
              "<p>26280 rows × 4 columns</p>\n",
              "</div>"
            ],
            "text/plain": [
              "             DATE   TIME     y                  ds\n",
              "0        2017/1/1   0:00  2783 2017-01-01 00:00:00\n",
              "1        2017/1/1   1:00  2634 2017-01-01 01:00:00\n",
              "2        2017/1/1   2:00  2520 2017-01-01 02:00:00\n",
              "3        2017/1/1   3:00  2438 2017-01-01 03:00:00\n",
              "4        2017/1/1   4:00  2389 2017-01-01 04:00:00\n",
              "...           ...    ...   ...                 ...\n",
              "26275  2019/12/31  19:00  3302 2019-12-31 19:00:00\n",
              "26276  2019/12/31  20:00  3263 2019-12-31 20:00:00\n",
              "26277  2019/12/31  21:00  3182 2019-12-31 21:00:00\n",
              "26278  2019/12/31  22:00  3077 2019-12-31 22:00:00\n",
              "26279  2019/12/31  23:00  3029 2019-12-31 23:00:00\n",
              "\n",
              "[26280 rows x 4 columns]"
            ]
          },
          "metadata": {
            "tags": []
          },
          "execution_count": 26
        }
      ]
    },
    {
      "cell_type": "code",
      "metadata": {
        "colab": {
          "base_uri": "https://localhost:8080/",
          "height": 419
        },
        "id": "bgP6M9MgGYfg",
        "outputId": "1678d970-51d3-476b-908e-72cf7c52bd21"
      },
      "source": [
        "model.make_future_dataframe(24*366,freq='H')"
      ],
      "execution_count": 27,
      "outputs": [
        {
          "output_type": "execute_result",
          "data": {
            "text/html": [
              "<div>\n",
              "<style scoped>\n",
              "    .dataframe tbody tr th:only-of-type {\n",
              "        vertical-align: middle;\n",
              "    }\n",
              "\n",
              "    .dataframe tbody tr th {\n",
              "        vertical-align: top;\n",
              "    }\n",
              "\n",
              "    .dataframe thead th {\n",
              "        text-align: right;\n",
              "    }\n",
              "</style>\n",
              "<table border=\"1\" class=\"dataframe\">\n",
              "  <thead>\n",
              "    <tr style=\"text-align: right;\">\n",
              "      <th></th>\n",
              "      <th>ds</th>\n",
              "    </tr>\n",
              "  </thead>\n",
              "  <tbody>\n",
              "    <tr>\n",
              "      <th>0</th>\n",
              "      <td>2017-01-01 00:00:00</td>\n",
              "    </tr>\n",
              "    <tr>\n",
              "      <th>1</th>\n",
              "      <td>2017-01-01 01:00:00</td>\n",
              "    </tr>\n",
              "    <tr>\n",
              "      <th>2</th>\n",
              "      <td>2017-01-01 02:00:00</td>\n",
              "    </tr>\n",
              "    <tr>\n",
              "      <th>3</th>\n",
              "      <td>2017-01-01 03:00:00</td>\n",
              "    </tr>\n",
              "    <tr>\n",
              "      <th>4</th>\n",
              "      <td>2017-01-01 04:00:00</td>\n",
              "    </tr>\n",
              "    <tr>\n",
              "      <th>...</th>\n",
              "      <td>...</td>\n",
              "    </tr>\n",
              "    <tr>\n",
              "      <th>35059</th>\n",
              "      <td>2020-12-31 19:00:00</td>\n",
              "    </tr>\n",
              "    <tr>\n",
              "      <th>35060</th>\n",
              "      <td>2020-12-31 20:00:00</td>\n",
              "    </tr>\n",
              "    <tr>\n",
              "      <th>35061</th>\n",
              "      <td>2020-12-31 21:00:00</td>\n",
              "    </tr>\n",
              "    <tr>\n",
              "      <th>35062</th>\n",
              "      <td>2020-12-31 22:00:00</td>\n",
              "    </tr>\n",
              "    <tr>\n",
              "      <th>35063</th>\n",
              "      <td>2020-12-31 23:00:00</td>\n",
              "    </tr>\n",
              "  </tbody>\n",
              "</table>\n",
              "<p>35064 rows × 1 columns</p>\n",
              "</div>"
            ],
            "text/plain": [
              "                       ds\n",
              "0     2017-01-01 00:00:00\n",
              "1     2017-01-01 01:00:00\n",
              "2     2017-01-01 02:00:00\n",
              "3     2017-01-01 03:00:00\n",
              "4     2017-01-01 04:00:00\n",
              "...                   ...\n",
              "35059 2020-12-31 19:00:00\n",
              "35060 2020-12-31 20:00:00\n",
              "35061 2020-12-31 21:00:00\n",
              "35062 2020-12-31 22:00:00\n",
              "35063 2020-12-31 23:00:00\n",
              "\n",
              "[35064 rows x 1 columns]"
            ]
          },
          "metadata": {
            "tags": []
          },
          "execution_count": 27
        }
      ]
    },
    {
      "cell_type": "code",
      "metadata": {
        "id": "pQzuw0VRG285"
      },
      "source": [
        "future = model.make_future_dataframe(24*366,freq='H')"
      ],
      "execution_count": 28,
      "outputs": []
    },
    {
      "cell_type": "code",
      "metadata": {
        "colab": {
          "base_uri": "https://localhost:8080/",
          "height": 204
        },
        "id": "3a5oSSSzG9_9",
        "outputId": "3ae2fa3a-d017-471e-fea6-16fc51daede6"
      },
      "source": [
        "future.tail()"
      ],
      "execution_count": 29,
      "outputs": [
        {
          "output_type": "execute_result",
          "data": {
            "text/html": [
              "<div>\n",
              "<style scoped>\n",
              "    .dataframe tbody tr th:only-of-type {\n",
              "        vertical-align: middle;\n",
              "    }\n",
              "\n",
              "    .dataframe tbody tr th {\n",
              "        vertical-align: top;\n",
              "    }\n",
              "\n",
              "    .dataframe thead th {\n",
              "        text-align: right;\n",
              "    }\n",
              "</style>\n",
              "<table border=\"1\" class=\"dataframe\">\n",
              "  <thead>\n",
              "    <tr style=\"text-align: right;\">\n",
              "      <th></th>\n",
              "      <th>ds</th>\n",
              "    </tr>\n",
              "  </thead>\n",
              "  <tbody>\n",
              "    <tr>\n",
              "      <th>35059</th>\n",
              "      <td>2020-12-31 19:00:00</td>\n",
              "    </tr>\n",
              "    <tr>\n",
              "      <th>35060</th>\n",
              "      <td>2020-12-31 20:00:00</td>\n",
              "    </tr>\n",
              "    <tr>\n",
              "      <th>35061</th>\n",
              "      <td>2020-12-31 21:00:00</td>\n",
              "    </tr>\n",
              "    <tr>\n",
              "      <th>35062</th>\n",
              "      <td>2020-12-31 22:00:00</td>\n",
              "    </tr>\n",
              "    <tr>\n",
              "      <th>35063</th>\n",
              "      <td>2020-12-31 23:00:00</td>\n",
              "    </tr>\n",
              "  </tbody>\n",
              "</table>\n",
              "</div>"
            ],
            "text/plain": [
              "                       ds\n",
              "35059 2020-12-31 19:00:00\n",
              "35060 2020-12-31 20:00:00\n",
              "35061 2020-12-31 21:00:00\n",
              "35062 2020-12-31 22:00:00\n",
              "35063 2020-12-31 23:00:00"
            ]
          },
          "metadata": {
            "tags": []
          },
          "execution_count": 29
        }
      ]
    },
    {
      "cell_type": "code",
      "metadata": {
        "colab": {
          "base_uri": "https://localhost:8080/",
          "height": 779
        },
        "id": "thyYuI_NHA1A",
        "outputId": "8019075d-3355-49e6-b225-403837ac4c7c"
      },
      "source": [
        "model.predict(future)"
      ],
      "execution_count": 30,
      "outputs": [
        {
          "output_type": "execute_result",
          "data": {
            "text/html": [
              "<div>\n",
              "<style scoped>\n",
              "    .dataframe tbody tr th:only-of-type {\n",
              "        vertical-align: middle;\n",
              "    }\n",
              "\n",
              "    .dataframe tbody tr th {\n",
              "        vertical-align: top;\n",
              "    }\n",
              "\n",
              "    .dataframe thead th {\n",
              "        text-align: right;\n",
              "    }\n",
              "</style>\n",
              "<table border=\"1\" class=\"dataframe\">\n",
              "  <thead>\n",
              "    <tr style=\"text-align: right;\">\n",
              "      <th></th>\n",
              "      <th>ds</th>\n",
              "      <th>trend</th>\n",
              "      <th>yhat_lower</th>\n",
              "      <th>yhat_upper</th>\n",
              "      <th>trend_lower</th>\n",
              "      <th>trend_upper</th>\n",
              "      <th>additive_terms</th>\n",
              "      <th>additive_terms_lower</th>\n",
              "      <th>additive_terms_upper</th>\n",
              "      <th>daily</th>\n",
              "      <th>daily_lower</th>\n",
              "      <th>daily_upper</th>\n",
              "      <th>weekly</th>\n",
              "      <th>weekly_lower</th>\n",
              "      <th>weekly_upper</th>\n",
              "      <th>yearly</th>\n",
              "      <th>yearly_lower</th>\n",
              "      <th>yearly_upper</th>\n",
              "      <th>multiplicative_terms</th>\n",
              "      <th>multiplicative_terms_lower</th>\n",
              "      <th>multiplicative_terms_upper</th>\n",
              "      <th>yhat</th>\n",
              "    </tr>\n",
              "  </thead>\n",
              "  <tbody>\n",
              "    <tr>\n",
              "      <th>0</th>\n",
              "      <td>2017-01-01 00:00:00</td>\n",
              "      <td>3038.643373</td>\n",
              "      <td>1964.402843</td>\n",
              "      <td>2764.654238</td>\n",
              "      <td>3038.643373</td>\n",
              "      <td>3038.643373</td>\n",
              "      <td>-667.956428</td>\n",
              "      <td>-667.956428</td>\n",
              "      <td>-667.956428</td>\n",
              "      <td>-488.417802</td>\n",
              "      <td>-488.417802</td>\n",
              "      <td>-488.417802</td>\n",
              "      <td>-332.713462</td>\n",
              "      <td>-332.713462</td>\n",
              "      <td>-332.713462</td>\n",
              "      <td>153.174836</td>\n",
              "      <td>153.174836</td>\n",
              "      <td>153.174836</td>\n",
              "      <td>0.0</td>\n",
              "      <td>0.0</td>\n",
              "      <td>0.0</td>\n",
              "      <td>2370.686945</td>\n",
              "    </tr>\n",
              "    <tr>\n",
              "      <th>1</th>\n",
              "      <td>2017-01-01 01:00:00</td>\n",
              "      <td>3038.827962</td>\n",
              "      <td>1856.331288</td>\n",
              "      <td>2627.502424</td>\n",
              "      <td>3038.827962</td>\n",
              "      <td>3038.827962</td>\n",
              "      <td>-806.326413</td>\n",
              "      <td>-806.326413</td>\n",
              "      <td>-806.326413</td>\n",
              "      <td>-617.309962</td>\n",
              "      <td>-617.309962</td>\n",
              "      <td>-617.309962</td>\n",
              "      <td>-342.159100</td>\n",
              "      <td>-342.159100</td>\n",
              "      <td>-342.159100</td>\n",
              "      <td>153.142649</td>\n",
              "      <td>153.142649</td>\n",
              "      <td>153.142649</td>\n",
              "      <td>0.0</td>\n",
              "      <td>0.0</td>\n",
              "      <td>0.0</td>\n",
              "      <td>2232.501548</td>\n",
              "    </tr>\n",
              "    <tr>\n",
              "      <th>2</th>\n",
              "      <td>2017-01-01 02:00:00</td>\n",
              "      <td>3039.012550</td>\n",
              "      <td>1735.551369</td>\n",
              "      <td>2522.302694</td>\n",
              "      <td>3039.012550</td>\n",
              "      <td>3039.012550</td>\n",
              "      <td>-891.592152</td>\n",
              "      <td>-891.592152</td>\n",
              "      <td>-891.592152</td>\n",
              "      <td>-694.375983</td>\n",
              "      <td>-694.375983</td>\n",
              "      <td>-694.375983</td>\n",
              "      <td>-350.332970</td>\n",
              "      <td>-350.332970</td>\n",
              "      <td>-350.332970</td>\n",
              "      <td>153.116802</td>\n",
              "      <td>153.116802</td>\n",
              "      <td>153.116802</td>\n",
              "      <td>0.0</td>\n",
              "      <td>0.0</td>\n",
              "      <td>0.0</td>\n",
              "      <td>2147.420398</td>\n",
              "    </tr>\n",
              "    <tr>\n",
              "      <th>3</th>\n",
              "      <td>2017-01-01 03:00:00</td>\n",
              "      <td>3039.197138</td>\n",
              "      <td>1707.519020</td>\n",
              "      <td>2472.686366</td>\n",
              "      <td>3039.197138</td>\n",
              "      <td>3039.197138</td>\n",
              "      <td>-932.036423</td>\n",
              "      <td>-932.036423</td>\n",
              "      <td>-932.036423</td>\n",
              "      <td>-727.960893</td>\n",
              "      <td>-727.960893</td>\n",
              "      <td>-727.960893</td>\n",
              "      <td>-357.172839</td>\n",
              "      <td>-357.172839</td>\n",
              "      <td>-357.172839</td>\n",
              "      <td>153.097309</td>\n",
              "      <td>153.097309</td>\n",
              "      <td>153.097309</td>\n",
              "      <td>0.0</td>\n",
              "      <td>0.0</td>\n",
              "      <td>0.0</td>\n",
              "      <td>2107.160716</td>\n",
              "    </tr>\n",
              "    <tr>\n",
              "      <th>4</th>\n",
              "      <td>2017-01-01 04:00:00</td>\n",
              "      <td>3039.381726</td>\n",
              "      <td>1754.799440</td>\n",
              "      <td>2478.966361</td>\n",
              "      <td>3039.381726</td>\n",
              "      <td>3039.381726</td>\n",
              "      <td>-917.684314</td>\n",
              "      <td>-917.684314</td>\n",
              "      <td>-917.684314</td>\n",
              "      <td>-708.142983</td>\n",
              "      <td>-708.142983</td>\n",
              "      <td>-708.142983</td>\n",
              "      <td>-362.625516</td>\n",
              "      <td>-362.625516</td>\n",
              "      <td>-362.625516</td>\n",
              "      <td>153.084185</td>\n",
              "      <td>153.084185</td>\n",
              "      <td>153.084185</td>\n",
              "      <td>0.0</td>\n",
              "      <td>0.0</td>\n",
              "      <td>0.0</td>\n",
              "      <td>2121.697412</td>\n",
              "    </tr>\n",
              "    <tr>\n",
              "      <th>...</th>\n",
              "      <td>...</td>\n",
              "      <td>...</td>\n",
              "      <td>...</td>\n",
              "      <td>...</td>\n",
              "      <td>...</td>\n",
              "      <td>...</td>\n",
              "      <td>...</td>\n",
              "      <td>...</td>\n",
              "      <td>...</td>\n",
              "      <td>...</td>\n",
              "      <td>...</td>\n",
              "      <td>...</td>\n",
              "      <td>...</td>\n",
              "      <td>...</td>\n",
              "      <td>...</td>\n",
              "      <td>...</td>\n",
              "      <td>...</td>\n",
              "      <td>...</td>\n",
              "      <td>...</td>\n",
              "      <td>...</td>\n",
              "      <td>...</td>\n",
              "      <td>...</td>\n",
              "    </tr>\n",
              "    <tr>\n",
              "      <th>35059</th>\n",
              "      <td>2020-12-31 19:00:00</td>\n",
              "      <td>2762.320726</td>\n",
              "      <td>1012.805395</td>\n",
              "      <td>5988.164825</td>\n",
              "      <td>247.084400</td>\n",
              "      <td>5274.384991</td>\n",
              "      <td>670.635253</td>\n",
              "      <td>670.635253</td>\n",
              "      <td>670.635253</td>\n",
              "      <td>396.227734</td>\n",
              "      <td>396.227734</td>\n",
              "      <td>396.227734</td>\n",
              "      <td>120.977144</td>\n",
              "      <td>120.977144</td>\n",
              "      <td>120.977144</td>\n",
              "      <td>153.430374</td>\n",
              "      <td>153.430374</td>\n",
              "      <td>153.430374</td>\n",
              "      <td>0.0</td>\n",
              "      <td>0.0</td>\n",
              "      <td>0.0</td>\n",
              "      <td>3432.955979</td>\n",
              "    </tr>\n",
              "    <tr>\n",
              "      <th>35060</th>\n",
              "      <td>2020-12-31 20:00:00</td>\n",
              "      <td>2762.278350</td>\n",
              "      <td>844.296483</td>\n",
              "      <td>5932.137818</td>\n",
              "      <td>246.553797</td>\n",
              "      <td>5274.675795</td>\n",
              "      <td>566.922395</td>\n",
              "      <td>566.922395</td>\n",
              "      <td>566.922395</td>\n",
              "      <td>292.169710</td>\n",
              "      <td>292.169710</td>\n",
              "      <td>292.169710</td>\n",
              "      <td>121.385983</td>\n",
              "      <td>121.385983</td>\n",
              "      <td>121.385983</td>\n",
              "      <td>153.366703</td>\n",
              "      <td>153.366703</td>\n",
              "      <td>153.366703</td>\n",
              "      <td>0.0</td>\n",
              "      <td>0.0</td>\n",
              "      <td>0.0</td>\n",
              "      <td>3329.200745</td>\n",
              "    </tr>\n",
              "    <tr>\n",
              "      <th>35061</th>\n",
              "      <td>2020-12-31 21:00:00</td>\n",
              "      <td>2762.235974</td>\n",
              "      <td>678.255665</td>\n",
              "      <td>5692.611083</td>\n",
              "      <td>246.023193</td>\n",
              "      <td>5274.966600</td>\n",
              "      <td>401.360681</td>\n",
              "      <td>401.360681</td>\n",
              "      <td>401.360681</td>\n",
              "      <td>126.182033</td>\n",
              "      <td>126.182033</td>\n",
              "      <td>126.182033</td>\n",
              "      <td>121.869350</td>\n",
              "      <td>121.869350</td>\n",
              "      <td>121.869350</td>\n",
              "      <td>153.309298</td>\n",
              "      <td>153.309298</td>\n",
              "      <td>153.309298</td>\n",
              "      <td>0.0</td>\n",
              "      <td>0.0</td>\n",
              "      <td>0.0</td>\n",
              "      <td>3163.596655</td>\n",
              "    </tr>\n",
              "    <tr>\n",
              "      <th>35062</th>\n",
              "      <td>2020-12-31 22:00:00</td>\n",
              "      <td>2762.193598</td>\n",
              "      <td>521.947494</td>\n",
              "      <td>5411.588504</td>\n",
              "      <td>245.498456</td>\n",
              "      <td>5275.257404</td>\n",
              "      <td>190.194424</td>\n",
              "      <td>190.194424</td>\n",
              "      <td>190.194424</td>\n",
              "      <td>-85.475310</td>\n",
              "      <td>-85.475310</td>\n",
              "      <td>-85.475310</td>\n",
              "      <td>122.411558</td>\n",
              "      <td>122.411558</td>\n",
              "      <td>122.411558</td>\n",
              "      <td>153.258175</td>\n",
              "      <td>153.258175</td>\n",
              "      <td>153.258175</td>\n",
              "      <td>0.0</td>\n",
              "      <td>0.0</td>\n",
              "      <td>0.0</td>\n",
              "      <td>2952.388022</td>\n",
              "    </tr>\n",
              "    <tr>\n",
              "      <th>35063</th>\n",
              "      <td>2020-12-31 23:00:00</td>\n",
              "      <td>2762.151222</td>\n",
              "      <td>275.816881</td>\n",
              "      <td>5201.260269</td>\n",
              "      <td>244.973934</td>\n",
              "      <td>5275.548208</td>\n",
              "      <td>-27.942535</td>\n",
              "      <td>-27.942535</td>\n",
              "      <td>-27.942535</td>\n",
              "      <td>-304.148420</td>\n",
              "      <td>-304.148420</td>\n",
              "      <td>-304.148420</td>\n",
              "      <td>122.992535</td>\n",
              "      <td>122.992535</td>\n",
              "      <td>122.992535</td>\n",
              "      <td>153.213350</td>\n",
              "      <td>153.213350</td>\n",
              "      <td>153.213350</td>\n",
              "      <td>0.0</td>\n",
              "      <td>0.0</td>\n",
              "      <td>0.0</td>\n",
              "      <td>2734.208687</td>\n",
              "    </tr>\n",
              "  </tbody>\n",
              "</table>\n",
              "<p>35064 rows × 22 columns</p>\n",
              "</div>"
            ],
            "text/plain": [
              "                       ds        trend  ...  multiplicative_terms_upper         yhat\n",
              "0     2017-01-01 00:00:00  3038.643373  ...                         0.0  2370.686945\n",
              "1     2017-01-01 01:00:00  3038.827962  ...                         0.0  2232.501548\n",
              "2     2017-01-01 02:00:00  3039.012550  ...                         0.0  2147.420398\n",
              "3     2017-01-01 03:00:00  3039.197138  ...                         0.0  2107.160716\n",
              "4     2017-01-01 04:00:00  3039.381726  ...                         0.0  2121.697412\n",
              "...                   ...          ...  ...                         ...          ...\n",
              "35059 2020-12-31 19:00:00  2762.320726  ...                         0.0  3432.955979\n",
              "35060 2020-12-31 20:00:00  2762.278350  ...                         0.0  3329.200745\n",
              "35061 2020-12-31 21:00:00  2762.235974  ...                         0.0  3163.596655\n",
              "35062 2020-12-31 22:00:00  2762.193598  ...                         0.0  2952.388022\n",
              "35063 2020-12-31 23:00:00  2762.151222  ...                         0.0  2734.208687\n",
              "\n",
              "[35064 rows x 22 columns]"
            ]
          },
          "metadata": {
            "tags": []
          },
          "execution_count": 30
        }
      ]
    },
    {
      "cell_type": "code",
      "metadata": {
        "id": "I8I_J5g9H2gI"
      },
      "source": [
        "forcast = model.predict(future)"
      ],
      "execution_count": 31,
      "outputs": []
    },
    {
      "cell_type": "code",
      "metadata": {
        "id": "M3CKwcLsH_eK"
      },
      "source": [
        "import matplotlib.pyplot as plt"
      ],
      "execution_count": 32,
      "outputs": []
    },
    {
      "cell_type": "code",
      "metadata": {
        "colab": {
          "base_uri": "https://localhost:8080/",
          "height": 865
        },
        "id": "vjAc2DWZIQMP",
        "outputId": "4e444112-0f5a-4f59-8003-007558f0d61e"
      },
      "source": [
        "model.plot(forcast)"
      ],
      "execution_count": 33,
      "outputs": [
        {
          "output_type": "execute_result",
          "data": {
            "image/png": "[encoded data removed]",
            "text/plain": [
              "<Figure size 720x432 with 1 Axes>"
            ]
          },
          "metadata": {
            "tags": []
          },
          "execution_count": 33
        },
        {
          "output_type": "display_data",
          "data": {
            "image/png": "[encoded data removed]",
            "text/plain": [
              "<Figure size 720x432 with 1 Axes>"
            ]
          },
          "metadata": {
            "tags": []
          }
        }
      ]
    },
    {
      "cell_type": "code",
      "metadata": {
        "colab": {
          "base_uri": "https://localhost:8080/",
          "height": 441
        },
        "id": "8bTAl3WAIWmW",
        "outputId": "fabb9195-6bcc-433f-a86c-781acbfe3862"
      },
      "source": [
        "model.plot(forcast)\n",
        "plt.xlim(dt(2018, 1, 1), dt(2018, 6,1))\n",
        "plt.show()"
      ],
      "execution_count": 34,
      "outputs": [
        {
          "output_type": "display_data",
          "data": {
            "image/png": "[encoded data removed]",
            "text/plain": [
              "<Figure size 720x432 with 1 Axes>"
            ]
          },
          "metadata": {
            "tags": []
          }
        }
      ]
    },
    {
      "cell_type": "code",
      "metadata": {
        "colab": {
          "base_uri": "https://localhost:8080/",
          "height": 441
        },
        "id": "ge_bV7fnIxez",
        "outputId": "57babfd8-dcb9-4992-ea55-4fdd37de89a7"
      },
      "source": [
        "model.plot(forcast)\n",
        "plt.xlim(dt(2018, 1, 1), dt(2018, 3,1))\n",
        "plt.show()"
      ],
      "execution_count": 35,
      "outputs": [
        {
          "output_type": "display_data",
          "data": {
            "image/png": "[encoded data removed]",
            "text/plain": [
              "<Figure size 720x432 with 1 Axes>"
            ]
          },
          "metadata": {
            "tags": []
          }
        }
      ]
    },
    {
      "cell_type": "code",
      "metadata": {
        "colab": {
          "base_uri": "https://localhost:8080/",
          "height": 441
        },
        "id": "wpljoP9hJsNv",
        "outputId": "cdd86de6-473e-4fec-d35b-f20b0163c471"
      },
      "source": [
        "model.plot(forcast)\n",
        "plt.xlim(dt(2018, 1, 1), dt(2018, 1,10))\n",
        "plt.show()"
      ],
      "execution_count": 36,
      "outputs": [
        {
          "output_type": "display_data",
          "data": {
            "image/png": "[encoded data removed]",
            "text/plain": [
              "<Figure size 720x432 with 1 Axes>"
            ]
          },
          "metadata": {
            "tags": []
          }
        }
      ]
    },
    {
      "cell_type": "markdown",
      "metadata": {
        "id": "-o6hXDlvLgcx"
      },
      "source": [
        "予測結果の集約（実測値と予測値をまとめる）"
      ]
    },
    {
      "cell_type": "code",
      "metadata": {
        "id": "7sVXRh_hLmmo"
      },
      "source": [
        "df_2020 = pd.read_csv('https://www.tepco.co.jp/forecast/html/images/juyo-2020.csv',encoding = 'shift-jis',skiprows=1)"
      ],
      "execution_count": 37,
      "outputs": []
    },
    {
      "cell_type": "code",
      "metadata": {
        "colab": {
          "base_uri": "https://localhost:8080/",
          "height": 204
        },
        "id": "kgUGCpiCL_h9",
        "outputId": "7801ec84-85dc-46c6-91e2-a5c4ce262024"
      },
      "source": [
        "df_2020.head()"
      ],
      "execution_count": 38,
      "outputs": [
        {
          "output_type": "execute_result",
          "data": {
            "text/html": [
              "<div>\n",
              "<style scoped>\n",
              "    .dataframe tbody tr th:only-of-type {\n",
              "        vertical-align: middle;\n",
              "    }\n",
              "\n",
              "    .dataframe tbody tr th {\n",
              "        vertical-align: top;\n",
              "    }\n",
              "\n",
              "    .dataframe thead th {\n",
              "        text-align: right;\n",
              "    }\n",
              "</style>\n",
              "<table border=\"1\" class=\"dataframe\">\n",
              "  <thead>\n",
              "    <tr style=\"text-align: right;\">\n",
              "      <th></th>\n",
              "      <th>DATE</th>\n",
              "      <th>TIME</th>\n",
              "      <th>実績(万kW)</th>\n",
              "    </tr>\n",
              "  </thead>\n",
              "  <tbody>\n",
              "    <tr>\n",
              "      <th>0</th>\n",
              "      <td>2020/1/1</td>\n",
              "      <td>0:00</td>\n",
              "      <td>2857</td>\n",
              "    </tr>\n",
              "    <tr>\n",
              "      <th>1</th>\n",
              "      <td>2020/1/1</td>\n",
              "      <td>1:00</td>\n",
              "      <td>2703</td>\n",
              "    </tr>\n",
              "    <tr>\n",
              "      <th>2</th>\n",
              "      <td>2020/1/1</td>\n",
              "      <td>2:00</td>\n",
              "      <td>2602</td>\n",
              "    </tr>\n",
              "    <tr>\n",
              "      <th>3</th>\n",
              "      <td>2020/1/1</td>\n",
              "      <td>3:00</td>\n",
              "      <td>2520</td>\n",
              "    </tr>\n",
              "    <tr>\n",
              "      <th>4</th>\n",
              "      <td>2020/1/1</td>\n",
              "      <td>4:00</td>\n",
              "      <td>2464</td>\n",
              "    </tr>\n",
              "  </tbody>\n",
              "</table>\n",
              "</div>"
            ],
            "text/plain": [
              "       DATE  TIME  実績(万kW)\n",
              "0  2020/1/1  0:00     2857\n",
              "1  2020/1/1  1:00     2703\n",
              "2  2020/1/1  2:00     2602\n",
              "3  2020/1/1  3:00     2520\n",
              "4  2020/1/1  4:00     2464"
            ]
          },
          "metadata": {
            "tags": []
          },
          "execution_count": 38
        }
      ]
    },
    {
      "cell_type": "code",
      "metadata": {
        "colab": {
          "base_uri": "https://localhost:8080/",
          "height": 779
        },
        "id": "7MwsfwrFMCwc",
        "outputId": "1767aa24-290b-4af0-f04c-47fbe04bcbb8"
      },
      "source": [
        "forcast"
      ],
      "execution_count": 39,
      "outputs": [
        {
          "output_type": "execute_result",
          "data": {
            "text/html": [
              "<div>\n",
              "<style scoped>\n",
              "    .dataframe tbody tr th:only-of-type {\n",
              "        vertical-align: middle;\n",
              "    }\n",
              "\n",
              "    .dataframe tbody tr th {\n",
              "        vertical-align: top;\n",
              "    }\n",
              "\n",
              "    .dataframe thead th {\n",
              "        text-align: right;\n",
              "    }\n",
              "</style>\n",
              "<table border=\"1\" class=\"dataframe\">\n",
              "  <thead>\n",
              "    <tr style=\"text-align: right;\">\n",
              "      <th></th>\n",
              "      <th>ds</th>\n",
              "      <th>trend</th>\n",
              "      <th>yhat_lower</th>\n",
              "      <th>yhat_upper</th>\n",
              "      <th>trend_lower</th>\n",
              "      <th>trend_upper</th>\n",
              "      <th>additive_terms</th>\n",
              "      <th>additive_terms_lower</th>\n",
              "      <th>additive_terms_upper</th>\n",
              "      <th>daily</th>\n",
              "      <th>daily_lower</th>\n",
              "      <th>daily_upper</th>\n",
              "      <th>weekly</th>\n",
              "      <th>weekly_lower</th>\n",
              "      <th>weekly_upper</th>\n",
              "      <th>yearly</th>\n",
              "      <th>yearly_lower</th>\n",
              "      <th>yearly_upper</th>\n",
              "      <th>multiplicative_terms</th>\n",
              "      <th>multiplicative_terms_lower</th>\n",
              "      <th>multiplicative_terms_upper</th>\n",
              "      <th>yhat</th>\n",
              "    </tr>\n",
              "  </thead>\n",
              "  <tbody>\n",
              "    <tr>\n",
              "      <th>0</th>\n",
              "      <td>2017-01-01 00:00:00</td>\n",
              "      <td>3038.643373</td>\n",
              "      <td>1985.534852</td>\n",
              "      <td>2740.784213</td>\n",
              "      <td>3038.643373</td>\n",
              "      <td>3038.643373</td>\n",
              "      <td>-667.956428</td>\n",
              "      <td>-667.956428</td>\n",
              "      <td>-667.956428</td>\n",
              "      <td>-488.417802</td>\n",
              "      <td>-488.417802</td>\n",
              "      <td>-488.417802</td>\n",
              "      <td>-332.713462</td>\n",
              "      <td>-332.713462</td>\n",
              "      <td>-332.713462</td>\n",
              "      <td>153.174836</td>\n",
              "      <td>153.174836</td>\n",
              "      <td>153.174836</td>\n",
              "      <td>0.0</td>\n",
              "      <td>0.0</td>\n",
              "      <td>0.0</td>\n",
              "      <td>2370.686945</td>\n",
              "    </tr>\n",
              "    <tr>\n",
              "      <th>1</th>\n",
              "      <td>2017-01-01 01:00:00</td>\n",
              "      <td>3038.827962</td>\n",
              "      <td>1860.889924</td>\n",
              "      <td>2598.176051</td>\n",
              "      <td>3038.827962</td>\n",
              "      <td>3038.827962</td>\n",
              "      <td>-806.326413</td>\n",
              "      <td>-806.326413</td>\n",
              "      <td>-806.326413</td>\n",
              "      <td>-617.309962</td>\n",
              "      <td>-617.309962</td>\n",
              "      <td>-617.309962</td>\n",
              "      <td>-342.159100</td>\n",
              "      <td>-342.159100</td>\n",
              "      <td>-342.159100</td>\n",
              "      <td>153.142649</td>\n",
              "      <td>153.142649</td>\n",
              "      <td>153.142649</td>\n",
              "      <td>0.0</td>\n",
              "      <td>0.0</td>\n",
              "      <td>0.0</td>\n",
              "      <td>2232.501548</td>\n",
              "    </tr>\n",
              "    <tr>\n",
              "      <th>2</th>\n",
              "      <td>2017-01-01 02:00:00</td>\n",
              "      <td>3039.012550</td>\n",
              "      <td>1755.231100</td>\n",
              "      <td>2519.187972</td>\n",
              "      <td>3039.012550</td>\n",
              "      <td>3039.012550</td>\n",
              "      <td>-891.592152</td>\n",
              "      <td>-891.592152</td>\n",
              "      <td>-891.592152</td>\n",
              "      <td>-694.375983</td>\n",
              "      <td>-694.375983</td>\n",
              "      <td>-694.375983</td>\n",
              "      <td>-350.332970</td>\n",
              "      <td>-350.332970</td>\n",
              "      <td>-350.332970</td>\n",
              "      <td>153.116802</td>\n",
              "      <td>153.116802</td>\n",
              "      <td>153.116802</td>\n",
              "      <td>0.0</td>\n",
              "      <td>0.0</td>\n",
              "      <td>0.0</td>\n",
              "      <td>2147.420398</td>\n",
              "    </tr>\n",
              "    <tr>\n",
              "      <th>3</th>\n",
              "      <td>2017-01-01 03:00:00</td>\n",
              "      <td>3039.197138</td>\n",
              "      <td>1721.273685</td>\n",
              "      <td>2497.745104</td>\n",
              "      <td>3039.197138</td>\n",
              "      <td>3039.197138</td>\n",
              "      <td>-932.036423</td>\n",
              "      <td>-932.036423</td>\n",
              "      <td>-932.036423</td>\n",
              "      <td>-727.960893</td>\n",
              "      <td>-727.960893</td>\n",
              "      <td>-727.960893</td>\n",
              "      <td>-357.172839</td>\n",
              "      <td>-357.172839</td>\n",
              "      <td>-357.172839</td>\n",
              "      <td>153.097309</td>\n",
              "      <td>153.097309</td>\n",
              "      <td>153.097309</td>\n",
              "      <td>0.0</td>\n",
              "      <td>0.0</td>\n",
              "      <td>0.0</td>\n",
              "      <td>2107.160716</td>\n",
              "    </tr>\n",
              "    <tr>\n",
              "      <th>4</th>\n",
              "      <td>2017-01-01 04:00:00</td>\n",
              "      <td>3039.381726</td>\n",
              "      <td>1732.841572</td>\n",
              "      <td>2529.139337</td>\n",
              "      <td>3039.381726</td>\n",
              "      <td>3039.381726</td>\n",
              "      <td>-917.684314</td>\n",
              "      <td>-917.684314</td>\n",
              "      <td>-917.684314</td>\n",
              "      <td>-708.142983</td>\n",
              "      <td>-708.142983</td>\n",
              "      <td>-708.142983</td>\n",
              "      <td>-362.625516</td>\n",
              "      <td>-362.625516</td>\n",
              "      <td>-362.625516</td>\n",
              "      <td>153.084185</td>\n",
              "      <td>153.084185</td>\n",
              "      <td>153.084185</td>\n",
              "      <td>0.0</td>\n",
              "      <td>0.0</td>\n",
              "      <td>0.0</td>\n",
              "      <td>2121.697412</td>\n",
              "    </tr>\n",
              "    <tr>\n",
              "      <th>...</th>\n",
              "      <td>...</td>\n",
              "      <td>...</td>\n",
              "      <td>...</td>\n",
              "      <td>...</td>\n",
              "      <td>...</td>\n",
              "      <td>...</td>\n",
              "      <td>...</td>\n",
              "      <td>...</td>\n",
              "      <td>...</td>\n",
              "      <td>...</td>\n",
              "      <td>...</td>\n",
              "      <td>...</td>\n",
              "      <td>...</td>\n",
              "      <td>...</td>\n",
              "      <td>...</td>\n",
              "      <td>...</td>\n",
              "      <td>...</td>\n",
              "      <td>...</td>\n",
              "      <td>...</td>\n",
              "      <td>...</td>\n",
              "      <td>...</td>\n",
              "      <td>...</td>\n",
              "    </tr>\n",
              "    <tr>\n",
              "      <th>35059</th>\n",
              "      <td>2020-12-31 19:00:00</td>\n",
              "      <td>2762.320726</td>\n",
              "      <td>898.186913</td>\n",
              "      <td>5747.323117</td>\n",
              "      <td>254.276677</td>\n",
              "      <td>5029.063372</td>\n",
              "      <td>670.635253</td>\n",
              "      <td>670.635253</td>\n",
              "      <td>670.635253</td>\n",
              "      <td>396.227734</td>\n",
              "      <td>396.227734</td>\n",
              "      <td>396.227734</td>\n",
              "      <td>120.977144</td>\n",
              "      <td>120.977144</td>\n",
              "      <td>120.977144</td>\n",
              "      <td>153.430374</td>\n",
              "      <td>153.430374</td>\n",
              "      <td>153.430374</td>\n",
              "      <td>0.0</td>\n",
              "      <td>0.0</td>\n",
              "      <td>0.0</td>\n",
              "      <td>3432.955979</td>\n",
              "    </tr>\n",
              "    <tr>\n",
              "      <th>35060</th>\n",
              "      <td>2020-12-31 20:00:00</td>\n",
              "      <td>2762.278350</td>\n",
              "      <td>752.956454</td>\n",
              "      <td>5590.143755</td>\n",
              "      <td>253.859012</td>\n",
              "      <td>5029.446182</td>\n",
              "      <td>566.922395</td>\n",
              "      <td>566.922395</td>\n",
              "      <td>566.922395</td>\n",
              "      <td>292.169710</td>\n",
              "      <td>292.169710</td>\n",
              "      <td>292.169710</td>\n",
              "      <td>121.385983</td>\n",
              "      <td>121.385983</td>\n",
              "      <td>121.385983</td>\n",
              "      <td>153.366703</td>\n",
              "      <td>153.366703</td>\n",
              "      <td>153.366703</td>\n",
              "      <td>0.0</td>\n",
              "      <td>0.0</td>\n",
              "      <td>0.0</td>\n",
              "      <td>3329.200745</td>\n",
              "    </tr>\n",
              "    <tr>\n",
              "      <th>35061</th>\n",
              "      <td>2020-12-31 21:00:00</td>\n",
              "      <td>2762.235974</td>\n",
              "      <td>590.701523</td>\n",
              "      <td>5485.616870</td>\n",
              "      <td>253.441347</td>\n",
              "      <td>5029.828992</td>\n",
              "      <td>401.360681</td>\n",
              "      <td>401.360681</td>\n",
              "      <td>401.360681</td>\n",
              "      <td>126.182033</td>\n",
              "      <td>126.182033</td>\n",
              "      <td>126.182033</td>\n",
              "      <td>121.869350</td>\n",
              "      <td>121.869350</td>\n",
              "      <td>121.869350</td>\n",
              "      <td>153.309298</td>\n",
              "      <td>153.309298</td>\n",
              "      <td>153.309298</td>\n",
              "      <td>0.0</td>\n",
              "      <td>0.0</td>\n",
              "      <td>0.0</td>\n",
              "      <td>3163.596655</td>\n",
              "    </tr>\n",
              "    <tr>\n",
              "      <th>35062</th>\n",
              "      <td>2020-12-31 22:00:00</td>\n",
              "      <td>2762.193598</td>\n",
              "      <td>422.533214</td>\n",
              "      <td>5191.994793</td>\n",
              "      <td>253.023682</td>\n",
              "      <td>5030.211802</td>\n",
              "      <td>190.194424</td>\n",
              "      <td>190.194424</td>\n",
              "      <td>190.194424</td>\n",
              "      <td>-85.475310</td>\n",
              "      <td>-85.475310</td>\n",
              "      <td>-85.475310</td>\n",
              "      <td>122.411558</td>\n",
              "      <td>122.411558</td>\n",
              "      <td>122.411558</td>\n",
              "      <td>153.258175</td>\n",
              "      <td>153.258175</td>\n",
              "      <td>153.258175</td>\n",
              "      <td>0.0</td>\n",
              "      <td>0.0</td>\n",
              "      <td>0.0</td>\n",
              "      <td>2952.388022</td>\n",
              "    </tr>\n",
              "    <tr>\n",
              "      <th>35063</th>\n",
              "      <td>2020-12-31 23:00:00</td>\n",
              "      <td>2762.151222</td>\n",
              "      <td>199.038034</td>\n",
              "      <td>4998.629410</td>\n",
              "      <td>252.606017</td>\n",
              "      <td>5030.594612</td>\n",
              "      <td>-27.942535</td>\n",
              "      <td>-27.942535</td>\n",
              "      <td>-27.942535</td>\n",
              "      <td>-304.148420</td>\n",
              "      <td>-304.148420</td>\n",
              "      <td>-304.148420</td>\n",
              "      <td>122.992535</td>\n",
              "      <td>122.992535</td>\n",
              "      <td>122.992535</td>\n",
              "      <td>153.213350</td>\n",
              "      <td>153.213350</td>\n",
              "      <td>153.213350</td>\n",
              "      <td>0.0</td>\n",
              "      <td>0.0</td>\n",
              "      <td>0.0</td>\n",
              "      <td>2734.208687</td>\n",
              "    </tr>\n",
              "  </tbody>\n",
              "</table>\n",
              "<p>35064 rows × 22 columns</p>\n",
              "</div>"
            ],
            "text/plain": [
              "                       ds        trend  ...  multiplicative_terms_upper         yhat\n",
              "0     2017-01-01 00:00:00  3038.643373  ...                         0.0  2370.686945\n",
              "1     2017-01-01 01:00:00  3038.827962  ...                         0.0  2232.501548\n",
              "2     2017-01-01 02:00:00  3039.012550  ...                         0.0  2147.420398\n",
              "3     2017-01-01 03:00:00  3039.197138  ...                         0.0  2107.160716\n",
              "4     2017-01-01 04:00:00  3039.381726  ...                         0.0  2121.697412\n",
              "...                   ...          ...  ...                         ...          ...\n",
              "35059 2020-12-31 19:00:00  2762.320726  ...                         0.0  3432.955979\n",
              "35060 2020-12-31 20:00:00  2762.278350  ...                         0.0  3329.200745\n",
              "35061 2020-12-31 21:00:00  2762.235974  ...                         0.0  3163.596655\n",
              "35062 2020-12-31 22:00:00  2762.193598  ...                         0.0  2952.388022\n",
              "35063 2020-12-31 23:00:00  2762.151222  ...                         0.0  2734.208687\n",
              "\n",
              "[35064 rows x 22 columns]"
            ]
          },
          "metadata": {
            "tags": []
          },
          "execution_count": 39
        }
      ]
    },
    {
      "cell_type": "code",
      "metadata": {
        "colab": {
          "base_uri": "https://localhost:8080/",
          "height": 394
        },
        "id": "sSnDwZ8dMLZp",
        "outputId": "2ebb969e-54de-43a4-ea58-afc20e8b4291"
      },
      "source": [
        "forcast.tail()"
      ],
      "execution_count": 40,
      "outputs": [
        {
          "output_type": "execute_result",
          "data": {
            "text/html": [
              "<div>\n",
              "<style scoped>\n",
              "    .dataframe tbody tr th:only-of-type {\n",
              "        vertical-align: middle;\n",
              "    }\n",
              "\n",
              "    .dataframe tbody tr th {\n",
              "        vertical-align: top;\n",
              "    }\n",
              "\n",
              "    .dataframe thead th {\n",
              "        text-align: right;\n",
              "    }\n",
              "</style>\n",
              "<table border=\"1\" class=\"dataframe\">\n",
              "  <thead>\n",
              "    <tr style=\"text-align: right;\">\n",
              "      <th></th>\n",
              "      <th>ds</th>\n",
              "      <th>trend</th>\n",
              "      <th>yhat_lower</th>\n",
              "      <th>yhat_upper</th>\n",
              "      <th>trend_lower</th>\n",
              "      <th>trend_upper</th>\n",
              "      <th>additive_terms</th>\n",
              "      <th>additive_terms_lower</th>\n",
              "      <th>additive_terms_upper</th>\n",
              "      <th>daily</th>\n",
              "      <th>daily_lower</th>\n",
              "      <th>daily_upper</th>\n",
              "      <th>weekly</th>\n",
              "      <th>weekly_lower</th>\n",
              "      <th>weekly_upper</th>\n",
              "      <th>yearly</th>\n",
              "      <th>yearly_lower</th>\n",
              "      <th>yearly_upper</th>\n",
              "      <th>multiplicative_terms</th>\n",
              "      <th>multiplicative_terms_lower</th>\n",
              "      <th>multiplicative_terms_upper</th>\n",
              "      <th>yhat</th>\n",
              "    </tr>\n",
              "  </thead>\n",
              "  <tbody>\n",
              "    <tr>\n",
              "      <th>35059</th>\n",
              "      <td>2020-12-31 19:00:00</td>\n",
              "      <td>2762.320726</td>\n",
              "      <td>898.186913</td>\n",
              "      <td>5747.323117</td>\n",
              "      <td>254.276677</td>\n",
              "      <td>5029.063372</td>\n",
              "      <td>670.635253</td>\n",
              "      <td>670.635253</td>\n",
              "      <td>670.635253</td>\n",
              "      <td>396.227734</td>\n",
              "      <td>396.227734</td>\n",
              "      <td>396.227734</td>\n",
              "      <td>120.977144</td>\n",
              "      <td>120.977144</td>\n",
              "      <td>120.977144</td>\n",
              "      <td>153.430374</td>\n",
              "      <td>153.430374</td>\n",
              "      <td>153.430374</td>\n",
              "      <td>0.0</td>\n",
              "      <td>0.0</td>\n",
              "      <td>0.0</td>\n",
              "      <td>3432.955979</td>\n",
              "    </tr>\n",
              "    <tr>\n",
              "      <th>35060</th>\n",
              "      <td>2020-12-31 20:00:00</td>\n",
              "      <td>2762.278350</td>\n",
              "      <td>752.956454</td>\n",
              "      <td>5590.143755</td>\n",
              "      <td>253.859012</td>\n",
              "      <td>5029.446182</td>\n",
              "      <td>566.922395</td>\n",
              "      <td>566.922395</td>\n",
              "      <td>566.922395</td>\n",
              "      <td>292.169710</td>\n",
              "      <td>292.169710</td>\n",
              "      <td>292.169710</td>\n",
              "      <td>121.385983</td>\n",
              "      <td>121.385983</td>\n",
              "      <td>121.385983</td>\n",
              "      <td>153.366703</td>\n",
              "      <td>153.366703</td>\n",
              "      <td>153.366703</td>\n",
              "      <td>0.0</td>\n",
              "      <td>0.0</td>\n",
              "      <td>0.0</td>\n",
              "      <td>3329.200745</td>\n",
              "    </tr>\n",
              "    <tr>\n",
              "      <th>35061</th>\n",
              "      <td>2020-12-31 21:00:00</td>\n",
              "      <td>2762.235974</td>\n",
              "      <td>590.701523</td>\n",
              "      <td>5485.616870</td>\n",
              "      <td>253.441347</td>\n",
              "      <td>5029.828992</td>\n",
              "      <td>401.360681</td>\n",
              "      <td>401.360681</td>\n",
              "      <td>401.360681</td>\n",
              "      <td>126.182033</td>\n",
              "      <td>126.182033</td>\n",
              "      <td>126.182033</td>\n",
              "      <td>121.869350</td>\n",
              "      <td>121.869350</td>\n",
              "      <td>121.869350</td>\n",
              "      <td>153.309298</td>\n",
              "      <td>153.309298</td>\n",
              "      <td>153.309298</td>\n",
              "      <td>0.0</td>\n",
              "      <td>0.0</td>\n",
              "      <td>0.0</td>\n",
              "      <td>3163.596655</td>\n",
              "    </tr>\n",
              "    <tr>\n",
              "      <th>35062</th>\n",
              "      <td>2020-12-31 22:00:00</td>\n",
              "      <td>2762.193598</td>\n",
              "      <td>422.533214</td>\n",
              "      <td>5191.994793</td>\n",
              "      <td>253.023682</td>\n",
              "      <td>5030.211802</td>\n",
              "      <td>190.194424</td>\n",
              "      <td>190.194424</td>\n",
              "      <td>190.194424</td>\n",
              "      <td>-85.475310</td>\n",
              "      <td>-85.475310</td>\n",
              "      <td>-85.475310</td>\n",
              "      <td>122.411558</td>\n",
              "      <td>122.411558</td>\n",
              "      <td>122.411558</td>\n",
              "      <td>153.258175</td>\n",
              "      <td>153.258175</td>\n",
              "      <td>153.258175</td>\n",
              "      <td>0.0</td>\n",
              "      <td>0.0</td>\n",
              "      <td>0.0</td>\n",
              "      <td>2952.388022</td>\n",
              "    </tr>\n",
              "    <tr>\n",
              "      <th>35063</th>\n",
              "      <td>2020-12-31 23:00:00</td>\n",
              "      <td>2762.151222</td>\n",
              "      <td>199.038034</td>\n",
              "      <td>4998.629410</td>\n",
              "      <td>252.606017</td>\n",
              "      <td>5030.594612</td>\n",
              "      <td>-27.942535</td>\n",
              "      <td>-27.942535</td>\n",
              "      <td>-27.942535</td>\n",
              "      <td>-304.148420</td>\n",
              "      <td>-304.148420</td>\n",
              "      <td>-304.148420</td>\n",
              "      <td>122.992535</td>\n",
              "      <td>122.992535</td>\n",
              "      <td>122.992535</td>\n",
              "      <td>153.213350</td>\n",
              "      <td>153.213350</td>\n",
              "      <td>153.213350</td>\n",
              "      <td>0.0</td>\n",
              "      <td>0.0</td>\n",
              "      <td>0.0</td>\n",
              "      <td>2734.208687</td>\n",
              "    </tr>\n",
              "  </tbody>\n",
              "</table>\n",
              "</div>"
            ],
            "text/plain": [
              "                       ds        trend  ...  multiplicative_terms_upper         yhat\n",
              "35059 2020-12-31 19:00:00  2762.320726  ...                         0.0  3432.955979\n",
              "35060 2020-12-31 20:00:00  2762.278350  ...                         0.0  3329.200745\n",
              "35061 2020-12-31 21:00:00  2762.235974  ...                         0.0  3163.596655\n",
              "35062 2020-12-31 22:00:00  2762.193598  ...                         0.0  2952.388022\n",
              "35063 2020-12-31 23:00:00  2762.151222  ...                         0.0  2734.208687\n",
              "\n",
              "[5 rows x 22 columns]"
            ]
          },
          "metadata": {
            "tags": []
          },
          "execution_count": 40
        }
      ]
    },
    {
      "cell_type": "code",
      "metadata": {
        "colab": {
          "base_uri": "https://localhost:8080/"
        },
        "id": "rG-98lsRMNpY",
        "outputId": "1674719f-6217-4b85-957b-6a380002c12e"
      },
      "source": [
        "forcast['ds']"
      ],
      "execution_count": 41,
      "outputs": [
        {
          "output_type": "execute_result",
          "data": {
            "text/plain": [
              "0       2017-01-01 00:00:00\n",
              "1       2017-01-01 01:00:00\n",
              "2       2017-01-01 02:00:00\n",
              "3       2017-01-01 03:00:00\n",
              "4       2017-01-01 04:00:00\n",
              "                ...        \n",
              "35059   2020-12-31 19:00:00\n",
              "35060   2020-12-31 20:00:00\n",
              "35061   2020-12-31 21:00:00\n",
              "35062   2020-12-31 22:00:00\n",
              "35063   2020-12-31 23:00:00\n",
              "Name: ds, Length: 35064, dtype: datetime64[ns]"
            ]
          },
          "metadata": {
            "tags": []
          },
          "execution_count": 41
        }
      ]
    },
    {
      "cell_type": "code",
      "metadata": {
        "colab": {
          "base_uri": "https://localhost:8080/"
        },
        "id": "MFIhDnFuMaUl",
        "outputId": "4123082b-1e22-4894-8ee5-dfe6d9bb94df"
      },
      "source": [
        "forcast['ds'] >= dt(2020, 1, 1)"
      ],
      "execution_count": 42,
      "outputs": [
        {
          "output_type": "execute_result",
          "data": {
            "text/plain": [
              "0        False\n",
              "1        False\n",
              "2        False\n",
              "3        False\n",
              "4        False\n",
              "         ...  \n",
              "35059     True\n",
              "35060     True\n",
              "35061     True\n",
              "35062     True\n",
              "35063     True\n",
              "Name: ds, Length: 35064, dtype: bool"
            ]
          },
          "metadata": {
            "tags": []
          },
          "execution_count": 42
        }
      ]
    },
    {
      "cell_type": "code",
      "metadata": {
        "colab": {
          "base_uri": "https://localhost:8080/",
          "height": 779
        },
        "id": "WNbeBG4cMoct",
        "outputId": "c1b9d634-8ce0-4664-c958-7bca9383eafc"
      },
      "source": [
        "forcast[forcast['ds'] >= dt(2020, 1, 1)]"
      ],
      "execution_count": 43,
      "outputs": [
        {
          "output_type": "execute_result",
          "data": {
            "text/html": [
              "<div>\n",
              "<style scoped>\n",
              "    .dataframe tbody tr th:only-of-type {\n",
              "        vertical-align: middle;\n",
              "    }\n",
              "\n",
              "    .dataframe tbody tr th {\n",
              "        vertical-align: top;\n",
              "    }\n",
              "\n",
              "    .dataframe thead th {\n",
              "        text-align: right;\n",
              "    }\n",
              "</style>\n",
              "<table border=\"1\" class=\"dataframe\">\n",
              "  <thead>\n",
              "    <tr style=\"text-align: right;\">\n",
              "      <th></th>\n",
              "      <th>ds</th>\n",
              "      <th>trend</th>\n",
              "      <th>yhat_lower</th>\n",
              "      <th>yhat_upper</th>\n",
              "      <th>trend_lower</th>\n",
              "      <th>trend_upper</th>\n",
              "      <th>additive_terms</th>\n",
              "      <th>additive_terms_lower</th>\n",
              "      <th>additive_terms_upper</th>\n",
              "      <th>daily</th>\n",
              "      <th>daily_lower</th>\n",
              "      <th>daily_upper</th>\n",
              "      <th>weekly</th>\n",
              "      <th>weekly_lower</th>\n",
              "      <th>weekly_upper</th>\n",
              "      <th>yearly</th>\n",
              "      <th>yearly_lower</th>\n",
              "      <th>yearly_upper</th>\n",
              "      <th>multiplicative_terms</th>\n",
              "      <th>multiplicative_terms_lower</th>\n",
              "      <th>multiplicative_terms_upper</th>\n",
              "      <th>yhat</th>\n",
              "    </tr>\n",
              "  </thead>\n",
              "  <tbody>\n",
              "    <tr>\n",
              "      <th>26280</th>\n",
              "      <td>2020-01-01 00:00:00</td>\n",
              "      <td>3134.340011</td>\n",
              "      <td>2531.865847</td>\n",
              "      <td>3284.957733</td>\n",
              "      <td>3134.340011</td>\n",
              "      <td>3134.340011</td>\n",
              "      <td>-224.856836</td>\n",
              "      <td>-224.856836</td>\n",
              "      <td>-224.856836</td>\n",
              "      <td>-488.417802</td>\n",
              "      <td>-488.417802</td>\n",
              "      <td>-488.417802</td>\n",
              "      <td>108.739814</td>\n",
              "      <td>108.739814</td>\n",
              "      <td>108.739814</td>\n",
              "      <td>154.821152</td>\n",
              "      <td>154.821152</td>\n",
              "      <td>154.821152</td>\n",
              "      <td>0.0</td>\n",
              "      <td>0.0</td>\n",
              "      <td>0.0</td>\n",
              "      <td>2909.483175</td>\n",
              "    </tr>\n",
              "    <tr>\n",
              "      <th>26281</th>\n",
              "      <td>2020-01-01 01:00:00</td>\n",
              "      <td>3134.297635</td>\n",
              "      <td>2396.979807</td>\n",
              "      <td>3167.336996</td>\n",
              "      <td>3134.297635</td>\n",
              "      <td>3134.297635</td>\n",
              "      <td>-354.546087</td>\n",
              "      <td>-354.546087</td>\n",
              "      <td>-354.546087</td>\n",
              "      <td>-617.309962</td>\n",
              "      <td>-617.309962</td>\n",
              "      <td>-617.309962</td>\n",
              "      <td>108.086395</td>\n",
              "      <td>108.086395</td>\n",
              "      <td>108.086395</td>\n",
              "      <td>154.677480</td>\n",
              "      <td>154.677480</td>\n",
              "      <td>154.677480</td>\n",
              "      <td>0.0</td>\n",
              "      <td>0.0</td>\n",
              "      <td>0.0</td>\n",
              "      <td>2779.751548</td>\n",
              "    </tr>\n",
              "    <tr>\n",
              "      <th>26282</th>\n",
              "      <td>2020-01-01 02:00:00</td>\n",
              "      <td>3134.255259</td>\n",
              "      <td>2321.418760</td>\n",
              "      <td>3078.545800</td>\n",
              "      <td>3134.255259</td>\n",
              "      <td>3134.255259</td>\n",
              "      <td>-432.164816</td>\n",
              "      <td>-432.164816</td>\n",
              "      <td>-432.164816</td>\n",
              "      <td>-694.375983</td>\n",
              "      <td>-694.375983</td>\n",
              "      <td>-694.375983</td>\n",
              "      <td>107.671307</td>\n",
              "      <td>107.671307</td>\n",
              "      <td>107.671307</td>\n",
              "      <td>154.539860</td>\n",
              "      <td>154.539860</td>\n",
              "      <td>154.539860</td>\n",
              "      <td>0.0</td>\n",
              "      <td>0.0</td>\n",
              "      <td>0.0</td>\n",
              "      <td>2702.090443</td>\n",
              "    </tr>\n",
              "    <tr>\n",
              "      <th>26283</th>\n",
              "      <td>2020-01-01 03:00:00</td>\n",
              "      <td>3134.212883</td>\n",
              "      <td>2271.252090</td>\n",
              "      <td>3045.113438</td>\n",
              "      <td>3134.212883</td>\n",
              "      <td>3134.212883</td>\n",
              "      <td>-466.064530</td>\n",
              "      <td>-466.064530</td>\n",
              "      <td>-466.064530</td>\n",
              "      <td>-727.960893</td>\n",
              "      <td>-727.960893</td>\n",
              "      <td>-727.960893</td>\n",
              "      <td>107.488055</td>\n",
              "      <td>107.488055</td>\n",
              "      <td>107.488055</td>\n",
              "      <td>154.408308</td>\n",
              "      <td>154.408308</td>\n",
              "      <td>154.408308</td>\n",
              "      <td>0.0</td>\n",
              "      <td>0.0</td>\n",
              "      <td>0.0</td>\n",
              "      <td>2668.148353</td>\n",
              "    </tr>\n",
              "    <tr>\n",
              "      <th>26284</th>\n",
              "      <td>2020-01-01 04:00:00</td>\n",
              "      <td>3134.170507</td>\n",
              "      <td>2270.578629</td>\n",
              "      <td>3112.575107</td>\n",
              "      <td>3134.170507</td>\n",
              "      <td>3134.170507</td>\n",
              "      <td>-446.333967</td>\n",
              "      <td>-446.333967</td>\n",
              "      <td>-446.333967</td>\n",
              "      <td>-708.142983</td>\n",
              "      <td>-708.142983</td>\n",
              "      <td>-708.142983</td>\n",
              "      <td>107.526173</td>\n",
              "      <td>107.526173</td>\n",
              "      <td>107.526173</td>\n",
              "      <td>154.282843</td>\n",
              "      <td>154.282843</td>\n",
              "      <td>154.282843</td>\n",
              "      <td>0.0</td>\n",
              "      <td>0.0</td>\n",
              "      <td>0.0</td>\n",
              "      <td>2687.836539</td>\n",
              "    </tr>\n",
              "    <tr>\n",
              "      <th>...</th>\n",
              "      <td>...</td>\n",
              "      <td>...</td>\n",
              "      <td>...</td>\n",
              "      <td>...</td>\n",
              "      <td>...</td>\n",
              "      <td>...</td>\n",
              "      <td>...</td>\n",
              "      <td>...</td>\n",
              "      <td>...</td>\n",
              "      <td>...</td>\n",
              "      <td>...</td>\n",
              "      <td>...</td>\n",
              "      <td>...</td>\n",
              "      <td>...</td>\n",
              "      <td>...</td>\n",
              "      <td>...</td>\n",
              "      <td>...</td>\n",
              "      <td>...</td>\n",
              "      <td>...</td>\n",
              "      <td>...</td>\n",
              "      <td>...</td>\n",
              "      <td>...</td>\n",
              "    </tr>\n",
              "    <tr>\n",
              "      <th>35059</th>\n",
              "      <td>2020-12-31 19:00:00</td>\n",
              "      <td>2762.320726</td>\n",
              "      <td>898.186913</td>\n",
              "      <td>5747.323117</td>\n",
              "      <td>254.276677</td>\n",
              "      <td>5029.063372</td>\n",
              "      <td>670.635253</td>\n",
              "      <td>670.635253</td>\n",
              "      <td>670.635253</td>\n",
              "      <td>396.227734</td>\n",
              "      <td>396.227734</td>\n",
              "      <td>396.227734</td>\n",
              "      <td>120.977144</td>\n",
              "      <td>120.977144</td>\n",
              "      <td>120.977144</td>\n",
              "      <td>153.430374</td>\n",
              "      <td>153.430374</td>\n",
              "      <td>153.430374</td>\n",
              "      <td>0.0</td>\n",
              "      <td>0.0</td>\n",
              "      <td>0.0</td>\n",
              "      <td>3432.955979</td>\n",
              "    </tr>\n",
              "    <tr>\n",
              "      <th>35060</th>\n",
              "      <td>2020-12-31 20:00:00</td>\n",
              "      <td>2762.278350</td>\n",
              "      <td>752.956454</td>\n",
              "      <td>5590.143755</td>\n",
              "      <td>253.859012</td>\n",
              "      <td>5029.446182</td>\n",
              "      <td>566.922395</td>\n",
              "      <td>566.922395</td>\n",
              "      <td>566.922395</td>\n",
              "      <td>292.169710</td>\n",
              "      <td>292.169710</td>\n",
              "      <td>292.169710</td>\n",
              "      <td>121.385983</td>\n",
              "      <td>121.385983</td>\n",
              "      <td>121.385983</td>\n",
              "      <td>153.366703</td>\n",
              "      <td>153.366703</td>\n",
              "      <td>153.366703</td>\n",
              "      <td>0.0</td>\n",
              "      <td>0.0</td>\n",
              "      <td>0.0</td>\n",
              "      <td>3329.200745</td>\n",
              "    </tr>\n",
              "    <tr>\n",
              "      <th>35061</th>\n",
              "      <td>2020-12-31 21:00:00</td>\n",
              "      <td>2762.235974</td>\n",
              "      <td>590.701523</td>\n",
              "      <td>5485.616870</td>\n",
              "      <td>253.441347</td>\n",
              "      <td>5029.828992</td>\n",
              "      <td>401.360681</td>\n",
              "      <td>401.360681</td>\n",
              "      <td>401.360681</td>\n",
              "      <td>126.182033</td>\n",
              "      <td>126.182033</td>\n",
              "      <td>126.182033</td>\n",
              "      <td>121.869350</td>\n",
              "      <td>121.869350</td>\n",
              "      <td>121.869350</td>\n",
              "      <td>153.309298</td>\n",
              "      <td>153.309298</td>\n",
              "      <td>153.309298</td>\n",
              "      <td>0.0</td>\n",
              "      <td>0.0</td>\n",
              "      <td>0.0</td>\n",
              "      <td>3163.596655</td>\n",
              "    </tr>\n",
              "    <tr>\n",
              "      <th>35062</th>\n",
              "      <td>2020-12-31 22:00:00</td>\n",
              "      <td>2762.193598</td>\n",
              "      <td>422.533214</td>\n",
              "      <td>5191.994793</td>\n",
              "      <td>253.023682</td>\n",
              "      <td>5030.211802</td>\n",
              "      <td>190.194424</td>\n",
              "      <td>190.194424</td>\n",
              "      <td>190.194424</td>\n",
              "      <td>-85.475310</td>\n",
              "      <td>-85.475310</td>\n",
              "      <td>-85.475310</td>\n",
              "      <td>122.411558</td>\n",
              "      <td>122.411558</td>\n",
              "      <td>122.411558</td>\n",
              "      <td>153.258175</td>\n",
              "      <td>153.258175</td>\n",
              "      <td>153.258175</td>\n",
              "      <td>0.0</td>\n",
              "      <td>0.0</td>\n",
              "      <td>0.0</td>\n",
              "      <td>2952.388022</td>\n",
              "    </tr>\n",
              "    <tr>\n",
              "      <th>35063</th>\n",
              "      <td>2020-12-31 23:00:00</td>\n",
              "      <td>2762.151222</td>\n",
              "      <td>199.038034</td>\n",
              "      <td>4998.629410</td>\n",
              "      <td>252.606017</td>\n",
              "      <td>5030.594612</td>\n",
              "      <td>-27.942535</td>\n",
              "      <td>-27.942535</td>\n",
              "      <td>-27.942535</td>\n",
              "      <td>-304.148420</td>\n",
              "      <td>-304.148420</td>\n",
              "      <td>-304.148420</td>\n",
              "      <td>122.992535</td>\n",
              "      <td>122.992535</td>\n",
              "      <td>122.992535</td>\n",
              "      <td>153.213350</td>\n",
              "      <td>153.213350</td>\n",
              "      <td>153.213350</td>\n",
              "      <td>0.0</td>\n",
              "      <td>0.0</td>\n",
              "      <td>0.0</td>\n",
              "      <td>2734.208687</td>\n",
              "    </tr>\n",
              "  </tbody>\n",
              "</table>\n",
              "<p>8784 rows × 22 columns</p>\n",
              "</div>"
            ],
            "text/plain": [
              "                       ds        trend  ...  multiplicative_terms_upper         yhat\n",
              "26280 2020-01-01 00:00:00  3134.340011  ...                         0.0  2909.483175\n",
              "26281 2020-01-01 01:00:00  3134.297635  ...                         0.0  2779.751548\n",
              "26282 2020-01-01 02:00:00  3134.255259  ...                         0.0  2702.090443\n",
              "26283 2020-01-01 03:00:00  3134.212883  ...                         0.0  2668.148353\n",
              "26284 2020-01-01 04:00:00  3134.170507  ...                         0.0  2687.836539\n",
              "...                   ...          ...  ...                         ...          ...\n",
              "35059 2020-12-31 19:00:00  2762.320726  ...                         0.0  3432.955979\n",
              "35060 2020-12-31 20:00:00  2762.278350  ...                         0.0  3329.200745\n",
              "35061 2020-12-31 21:00:00  2762.235974  ...                         0.0  3163.596655\n",
              "35062 2020-12-31 22:00:00  2762.193598  ...                         0.0  2952.388022\n",
              "35063 2020-12-31 23:00:00  2762.151222  ...                         0.0  2734.208687\n",
              "\n",
              "[8784 rows x 22 columns]"
            ]
          },
          "metadata": {
            "tags": []
          },
          "execution_count": 43
        }
      ]
    },
    {
      "cell_type": "code",
      "metadata": {
        "id": "PBoG5iwPM21z"
      },
      "source": [
        "forcast_2020 = forcast[forcast['ds'] >= dt(2020, 1, 1)].reset_index(drop=True)"
      ],
      "execution_count": 44,
      "outputs": []
    },
    {
      "cell_type": "code",
      "metadata": {
        "colab": {
          "base_uri": "https://localhost:8080/",
          "height": 394
        },
        "id": "ECCE3p87NlRE",
        "outputId": "70155fef-68bb-46c1-b85f-bb995690c367"
      },
      "source": [
        "forcast_2020.head()"
      ],
      "execution_count": 45,
      "outputs": [
        {
          "output_type": "execute_result",
          "data": {
            "text/html": [
              "<div>\n",
              "<style scoped>\n",
              "    .dataframe tbody tr th:only-of-type {\n",
              "        vertical-align: middle;\n",
              "    }\n",
              "\n",
              "    .dataframe tbody tr th {\n",
              "        vertical-align: top;\n",
              "    }\n",
              "\n",
              "    .dataframe thead th {\n",
              "        text-align: right;\n",
              "    }\n",
              "</style>\n",
              "<table border=\"1\" class=\"dataframe\">\n",
              "  <thead>\n",
              "    <tr style=\"text-align: right;\">\n",
              "      <th></th>\n",
              "      <th>ds</th>\n",
              "      <th>trend</th>\n",
              "      <th>yhat_lower</th>\n",
              "      <th>yhat_upper</th>\n",
              "      <th>trend_lower</th>\n",
              "      <th>trend_upper</th>\n",
              "      <th>additive_terms</th>\n",
              "      <th>additive_terms_lower</th>\n",
              "      <th>additive_terms_upper</th>\n",
              "      <th>daily</th>\n",
              "      <th>daily_lower</th>\n",
              "      <th>daily_upper</th>\n",
              "      <th>weekly</th>\n",
              "      <th>weekly_lower</th>\n",
              "      <th>weekly_upper</th>\n",
              "      <th>yearly</th>\n",
              "      <th>yearly_lower</th>\n",
              "      <th>yearly_upper</th>\n",
              "      <th>multiplicative_terms</th>\n",
              "      <th>multiplicative_terms_lower</th>\n",
              "      <th>multiplicative_terms_upper</th>\n",
              "      <th>yhat</th>\n",
              "    </tr>\n",
              "  </thead>\n",
              "  <tbody>\n",
              "    <tr>\n",
              "      <th>0</th>\n",
              "      <td>2020-01-01 00:00:00</td>\n",
              "      <td>3134.340011</td>\n",
              "      <td>2531.865847</td>\n",
              "      <td>3284.957733</td>\n",
              "      <td>3134.340011</td>\n",
              "      <td>3134.340011</td>\n",
              "      <td>-224.856836</td>\n",
              "      <td>-224.856836</td>\n",
              "      <td>-224.856836</td>\n",
              "      <td>-488.417802</td>\n",
              "      <td>-488.417802</td>\n",
              "      <td>-488.417802</td>\n",
              "      <td>108.739814</td>\n",
              "      <td>108.739814</td>\n",
              "      <td>108.739814</td>\n",
              "      <td>154.821152</td>\n",
              "      <td>154.821152</td>\n",
              "      <td>154.821152</td>\n",
              "      <td>0.0</td>\n",
              "      <td>0.0</td>\n",
              "      <td>0.0</td>\n",
              "      <td>2909.483175</td>\n",
              "    </tr>\n",
              "    <tr>\n",
              "      <th>1</th>\n",
              "      <td>2020-01-01 01:00:00</td>\n",
              "      <td>3134.297635</td>\n",
              "      <td>2396.979807</td>\n",
              "      <td>3167.336996</td>\n",
              "      <td>3134.297635</td>\n",
              "      <td>3134.297635</td>\n",
              "      <td>-354.546087</td>\n",
              "      <td>-354.546087</td>\n",
              "      <td>-354.546087</td>\n",
              "      <td>-617.309962</td>\n",
              "      <td>-617.309962</td>\n",
              "      <td>-617.309962</td>\n",
              "      <td>108.086395</td>\n",
              "      <td>108.086395</td>\n",
              "      <td>108.086395</td>\n",
              "      <td>154.677480</td>\n",
              "      <td>154.677480</td>\n",
              "      <td>154.677480</td>\n",
              "      <td>0.0</td>\n",
              "      <td>0.0</td>\n",
              "      <td>0.0</td>\n",
              "      <td>2779.751548</td>\n",
              "    </tr>\n",
              "    <tr>\n",
              "      <th>2</th>\n",
              "      <td>2020-01-01 02:00:00</td>\n",
              "      <td>3134.255259</td>\n",
              "      <td>2321.418760</td>\n",
              "      <td>3078.545800</td>\n",
              "      <td>3134.255259</td>\n",
              "      <td>3134.255259</td>\n",
              "      <td>-432.164816</td>\n",
              "      <td>-432.164816</td>\n",
              "      <td>-432.164816</td>\n",
              "      <td>-694.375983</td>\n",
              "      <td>-694.375983</td>\n",
              "      <td>-694.375983</td>\n",
              "      <td>107.671307</td>\n",
              "      <td>107.671307</td>\n",
              "      <td>107.671307</td>\n",
              "      <td>154.539860</td>\n",
              "      <td>154.539860</td>\n",
              "      <td>154.539860</td>\n",
              "      <td>0.0</td>\n",
              "      <td>0.0</td>\n",
              "      <td>0.0</td>\n",
              "      <td>2702.090443</td>\n",
              "    </tr>\n",
              "    <tr>\n",
              "      <th>3</th>\n",
              "      <td>2020-01-01 03:00:00</td>\n",
              "      <td>3134.212883</td>\n",
              "      <td>2271.252090</td>\n",
              "      <td>3045.113438</td>\n",
              "      <td>3134.212883</td>\n",
              "      <td>3134.212883</td>\n",
              "      <td>-466.064530</td>\n",
              "      <td>-466.064530</td>\n",
              "      <td>-466.064530</td>\n",
              "      <td>-727.960893</td>\n",
              "      <td>-727.960893</td>\n",
              "      <td>-727.960893</td>\n",
              "      <td>107.488055</td>\n",
              "      <td>107.488055</td>\n",
              "      <td>107.488055</td>\n",
              "      <td>154.408308</td>\n",
              "      <td>154.408308</td>\n",
              "      <td>154.408308</td>\n",
              "      <td>0.0</td>\n",
              "      <td>0.0</td>\n",
              "      <td>0.0</td>\n",
              "      <td>2668.148353</td>\n",
              "    </tr>\n",
              "    <tr>\n",
              "      <th>4</th>\n",
              "      <td>2020-01-01 04:00:00</td>\n",
              "      <td>3134.170507</td>\n",
              "      <td>2270.578629</td>\n",
              "      <td>3112.575107</td>\n",
              "      <td>3134.170507</td>\n",
              "      <td>3134.170507</td>\n",
              "      <td>-446.333967</td>\n",
              "      <td>-446.333967</td>\n",
              "      <td>-446.333967</td>\n",
              "      <td>-708.142983</td>\n",
              "      <td>-708.142983</td>\n",
              "      <td>-708.142983</td>\n",
              "      <td>107.526173</td>\n",
              "      <td>107.526173</td>\n",
              "      <td>107.526173</td>\n",
              "      <td>154.282843</td>\n",
              "      <td>154.282843</td>\n",
              "      <td>154.282843</td>\n",
              "      <td>0.0</td>\n",
              "      <td>0.0</td>\n",
              "      <td>0.0</td>\n",
              "      <td>2687.836539</td>\n",
              "    </tr>\n",
              "  </tbody>\n",
              "</table>\n",
              "</div>"
            ],
            "text/plain": [
              "                   ds        trend  ...  multiplicative_terms_upper         yhat\n",
              "0 2020-01-01 00:00:00  3134.340011  ...                         0.0  2909.483175\n",
              "1 2020-01-01 01:00:00  3134.297635  ...                         0.0  2779.751548\n",
              "2 2020-01-01 02:00:00  3134.255259  ...                         0.0  2702.090443\n",
              "3 2020-01-01 03:00:00  3134.212883  ...                         0.0  2668.148353\n",
              "4 2020-01-01 04:00:00  3134.170507  ...                         0.0  2687.836539\n",
              "\n",
              "[5 rows x 22 columns]"
            ]
          },
          "metadata": {
            "tags": []
          },
          "execution_count": 45
        }
      ]
    },
    {
      "cell_type": "code",
      "metadata": {
        "id": "c142oO1VONGC",
        "colab": {
          "base_uri": "https://localhost:8080/",
          "height": 394
        },
        "outputId": "52e02db9-09b9-4f39-c25c-04324b15b9a6"
      },
      "source": [
        "forcast_2020.tail()"
      ],
      "execution_count": 46,
      "outputs": [
        {
          "output_type": "execute_result",
          "data": {
            "text/html": [
              "<div>\n",
              "<style scoped>\n",
              "    .dataframe tbody tr th:only-of-type {\n",
              "        vertical-align: middle;\n",
              "    }\n",
              "\n",
              "    .dataframe tbody tr th {\n",
              "        vertical-align: top;\n",
              "    }\n",
              "\n",
              "    .dataframe thead th {\n",
              "        text-align: right;\n",
              "    }\n",
              "</style>\n",
              "<table border=\"1\" class=\"dataframe\">\n",
              "  <thead>\n",
              "    <tr style=\"text-align: right;\">\n",
              "      <th></th>\n",
              "      <th>ds</th>\n",
              "      <th>trend</th>\n",
              "      <th>yhat_lower</th>\n",
              "      <th>yhat_upper</th>\n",
              "      <th>trend_lower</th>\n",
              "      <th>trend_upper</th>\n",
              "      <th>additive_terms</th>\n",
              "      <th>additive_terms_lower</th>\n",
              "      <th>additive_terms_upper</th>\n",
              "      <th>daily</th>\n",
              "      <th>daily_lower</th>\n",
              "      <th>daily_upper</th>\n",
              "      <th>weekly</th>\n",
              "      <th>weekly_lower</th>\n",
              "      <th>weekly_upper</th>\n",
              "      <th>yearly</th>\n",
              "      <th>yearly_lower</th>\n",
              "      <th>yearly_upper</th>\n",
              "      <th>multiplicative_terms</th>\n",
              "      <th>multiplicative_terms_lower</th>\n",
              "      <th>multiplicative_terms_upper</th>\n",
              "      <th>yhat</th>\n",
              "    </tr>\n",
              "  </thead>\n",
              "  <tbody>\n",
              "    <tr>\n",
              "      <th>8779</th>\n",
              "      <td>2020-12-31 19:00:00</td>\n",
              "      <td>2762.320726</td>\n",
              "      <td>898.186913</td>\n",
              "      <td>5747.323117</td>\n",
              "      <td>254.276677</td>\n",
              "      <td>5029.063372</td>\n",
              "      <td>670.635253</td>\n",
              "      <td>670.635253</td>\n",
              "      <td>670.635253</td>\n",
              "      <td>396.227734</td>\n",
              "      <td>396.227734</td>\n",
              "      <td>396.227734</td>\n",
              "      <td>120.977144</td>\n",
              "      <td>120.977144</td>\n",
              "      <td>120.977144</td>\n",
              "      <td>153.430374</td>\n",
              "      <td>153.430374</td>\n",
              "      <td>153.430374</td>\n",
              "      <td>0.0</td>\n",
              "      <td>0.0</td>\n",
              "      <td>0.0</td>\n",
              "      <td>3432.955979</td>\n",
              "    </tr>\n",
              "    <tr>\n",
              "      <th>8780</th>\n",
              "      <td>2020-12-31 20:00:00</td>\n",
              "      <td>2762.278350</td>\n",
              "      <td>752.956454</td>\n",
              "      <td>5590.143755</td>\n",
              "      <td>253.859012</td>\n",
              "      <td>5029.446182</td>\n",
              "      <td>566.922395</td>\n",
              "      <td>566.922395</td>\n",
              "      <td>566.922395</td>\n",
              "      <td>292.169710</td>\n",
              "      <td>292.169710</td>\n",
              "      <td>292.169710</td>\n",
              "      <td>121.385983</td>\n",
              "      <td>121.385983</td>\n",
              "      <td>121.385983</td>\n",
              "      <td>153.366703</td>\n",
              "      <td>153.366703</td>\n",
              "      <td>153.366703</td>\n",
              "      <td>0.0</td>\n",
              "      <td>0.0</td>\n",
              "      <td>0.0</td>\n",
              "      <td>3329.200745</td>\n",
              "    </tr>\n",
              "    <tr>\n",
              "      <th>8781</th>\n",
              "      <td>2020-12-31 21:00:00</td>\n",
              "      <td>2762.235974</td>\n",
              "      <td>590.701523</td>\n",
              "      <td>5485.616870</td>\n",
              "      <td>253.441347</td>\n",
              "      <td>5029.828992</td>\n",
              "      <td>401.360681</td>\n",
              "      <td>401.360681</td>\n",
              "      <td>401.360681</td>\n",
              "      <td>126.182033</td>\n",
              "      <td>126.182033</td>\n",
              "      <td>126.182033</td>\n",
              "      <td>121.869350</td>\n",
              "      <td>121.869350</td>\n",
              "      <td>121.869350</td>\n",
              "      <td>153.309298</td>\n",
              "      <td>153.309298</td>\n",
              "      <td>153.309298</td>\n",
              "      <td>0.0</td>\n",
              "      <td>0.0</td>\n",
              "      <td>0.0</td>\n",
              "      <td>3163.596655</td>\n",
              "    </tr>\n",
              "    <tr>\n",
              "      <th>8782</th>\n",
              "      <td>2020-12-31 22:00:00</td>\n",
              "      <td>2762.193598</td>\n",
              "      <td>422.533214</td>\n",
              "      <td>5191.994793</td>\n",
              "      <td>253.023682</td>\n",
              "      <td>5030.211802</td>\n",
              "      <td>190.194424</td>\n",
              "      <td>190.194424</td>\n",
              "      <td>190.194424</td>\n",
              "      <td>-85.475310</td>\n",
              "      <td>-85.475310</td>\n",
              "      <td>-85.475310</td>\n",
              "      <td>122.411558</td>\n",
              "      <td>122.411558</td>\n",
              "      <td>122.411558</td>\n",
              "      <td>153.258175</td>\n",
              "      <td>153.258175</td>\n",
              "      <td>153.258175</td>\n",
              "      <td>0.0</td>\n",
              "      <td>0.0</td>\n",
              "      <td>0.0</td>\n",
              "      <td>2952.388022</td>\n",
              "    </tr>\n",
              "    <tr>\n",
              "      <th>8783</th>\n",
              "      <td>2020-12-31 23:00:00</td>\n",
              "      <td>2762.151222</td>\n",
              "      <td>199.038034</td>\n",
              "      <td>4998.629410</td>\n",
              "      <td>252.606017</td>\n",
              "      <td>5030.594612</td>\n",
              "      <td>-27.942535</td>\n",
              "      <td>-27.942535</td>\n",
              "      <td>-27.942535</td>\n",
              "      <td>-304.148420</td>\n",
              "      <td>-304.148420</td>\n",
              "      <td>-304.148420</td>\n",
              "      <td>122.992535</td>\n",
              "      <td>122.992535</td>\n",
              "      <td>122.992535</td>\n",
              "      <td>153.213350</td>\n",
              "      <td>153.213350</td>\n",
              "      <td>153.213350</td>\n",
              "      <td>0.0</td>\n",
              "      <td>0.0</td>\n",
              "      <td>0.0</td>\n",
              "      <td>2734.208687</td>\n",
              "    </tr>\n",
              "  </tbody>\n",
              "</table>\n",
              "</div>"
            ],
            "text/plain": [
              "                      ds        trend  ...  multiplicative_terms_upper         yhat\n",
              "8779 2020-12-31 19:00:00  2762.320726  ...                         0.0  3432.955979\n",
              "8780 2020-12-31 20:00:00  2762.278350  ...                         0.0  3329.200745\n",
              "8781 2020-12-31 21:00:00  2762.235974  ...                         0.0  3163.596655\n",
              "8782 2020-12-31 22:00:00  2762.193598  ...                         0.0  2952.388022\n",
              "8783 2020-12-31 23:00:00  2762.151222  ...                         0.0  2734.208687\n",
              "\n",
              "[5 rows x 22 columns]"
            ]
          },
          "metadata": {
            "tags": []
          },
          "execution_count": 46
        }
      ]
    },
    {
      "cell_type": "code",
      "metadata": {
        "id": "vrpoceciwQ8_",
        "outputId": "9c0de549-b95b-43a1-f388-9323c7015d97",
        "colab": {
          "base_uri": "https://localhost:8080/",
          "height": 204
        }
      },
      "source": [
        "df_2020 = df_2020.rename(columns={'実績(万kW)': 'y'})\n",
        "df_2020.head()"
      ],
      "execution_count": 47,
      "outputs": [
        {
          "output_type": "execute_result",
          "data": {
            "text/html": [
              "<div>\n",
              "<style scoped>\n",
              "    .dataframe tbody tr th:only-of-type {\n",
              "        vertical-align: middle;\n",
              "    }\n",
              "\n",
              "    .dataframe tbody tr th {\n",
              "        vertical-align: top;\n",
              "    }\n",
              "\n",
              "    .dataframe thead th {\n",
              "        text-align: right;\n",
              "    }\n",
              "</style>\n",
              "<table border=\"1\" class=\"dataframe\">\n",
              "  <thead>\n",
              "    <tr style=\"text-align: right;\">\n",
              "      <th></th>\n",
              "      <th>DATE</th>\n",
              "      <th>TIME</th>\n",
              "      <th>y</th>\n",
              "    </tr>\n",
              "  </thead>\n",
              "  <tbody>\n",
              "    <tr>\n",
              "      <th>0</th>\n",
              "      <td>2020/1/1</td>\n",
              "      <td>0:00</td>\n",
              "      <td>2857</td>\n",
              "    </tr>\n",
              "    <tr>\n",
              "      <th>1</th>\n",
              "      <td>2020/1/1</td>\n",
              "      <td>1:00</td>\n",
              "      <td>2703</td>\n",
              "    </tr>\n",
              "    <tr>\n",
              "      <th>2</th>\n",
              "      <td>2020/1/1</td>\n",
              "      <td>2:00</td>\n",
              "      <td>2602</td>\n",
              "    </tr>\n",
              "    <tr>\n",
              "      <th>3</th>\n",
              "      <td>2020/1/1</td>\n",
              "      <td>3:00</td>\n",
              "      <td>2520</td>\n",
              "    </tr>\n",
              "    <tr>\n",
              "      <th>4</th>\n",
              "      <td>2020/1/1</td>\n",
              "      <td>4:00</td>\n",
              "      <td>2464</td>\n",
              "    </tr>\n",
              "  </tbody>\n",
              "</table>\n",
              "</div>"
            ],
            "text/plain": [
              "       DATE  TIME     y\n",
              "0  2020/1/1  0:00  2857\n",
              "1  2020/1/1  1:00  2703\n",
              "2  2020/1/1  2:00  2602\n",
              "3  2020/1/1  3:00  2520\n",
              "4  2020/1/1  4:00  2464"
            ]
          },
          "metadata": {
            "tags": []
          },
          "execution_count": 47
        }
      ]
    },
    {
      "cell_type": "code",
      "metadata": {
        "id": "aKPD54v6wbNG",
        "outputId": "60d65fbf-fc78-47db-b22f-384c235489bc",
        "colab": {
          "base_uri": "https://localhost:8080/",
          "height": 204
        }
      },
      "source": [
        "df_2020.head()"
      ],
      "execution_count": 48,
      "outputs": [
        {
          "output_type": "execute_result",
          "data": {
            "text/html": [
              "<div>\n",
              "<style scoped>\n",
              "    .dataframe tbody tr th:only-of-type {\n",
              "        vertical-align: middle;\n",
              "    }\n",
              "\n",
              "    .dataframe tbody tr th {\n",
              "        vertical-align: top;\n",
              "    }\n",
              "\n",
              "    .dataframe thead th {\n",
              "        text-align: right;\n",
              "    }\n",
              "</style>\n",
              "<table border=\"1\" class=\"dataframe\">\n",
              "  <thead>\n",
              "    <tr style=\"text-align: right;\">\n",
              "      <th></th>\n",
              "      <th>DATE</th>\n",
              "      <th>TIME</th>\n",
              "      <th>y</th>\n",
              "    </tr>\n",
              "  </thead>\n",
              "  <tbody>\n",
              "    <tr>\n",
              "      <th>0</th>\n",
              "      <td>2020/1/1</td>\n",
              "      <td>0:00</td>\n",
              "      <td>2857</td>\n",
              "    </tr>\n",
              "    <tr>\n",
              "      <th>1</th>\n",
              "      <td>2020/1/1</td>\n",
              "      <td>1:00</td>\n",
              "      <td>2703</td>\n",
              "    </tr>\n",
              "    <tr>\n",
              "      <th>2</th>\n",
              "      <td>2020/1/1</td>\n",
              "      <td>2:00</td>\n",
              "      <td>2602</td>\n",
              "    </tr>\n",
              "    <tr>\n",
              "      <th>3</th>\n",
              "      <td>2020/1/1</td>\n",
              "      <td>3:00</td>\n",
              "      <td>2520</td>\n",
              "    </tr>\n",
              "    <tr>\n",
              "      <th>4</th>\n",
              "      <td>2020/1/1</td>\n",
              "      <td>4:00</td>\n",
              "      <td>2464</td>\n",
              "    </tr>\n",
              "  </tbody>\n",
              "</table>\n",
              "</div>"
            ],
            "text/plain": [
              "       DATE  TIME     y\n",
              "0  2020/1/1  0:00  2857\n",
              "1  2020/1/1  1:00  2703\n",
              "2  2020/1/1  2:00  2602\n",
              "3  2020/1/1  3:00  2520\n",
              "4  2020/1/1  4:00  2464"
            ]
          },
          "metadata": {
            "tags": []
          },
          "execution_count": 48
        }
      ]
    },
    {
      "cell_type": "code",
      "metadata": {
        "id": "gNeFu9CqwfQ9",
        "outputId": "81f96e4b-696d-43dd-9011-b7f17fea91ad",
        "colab": {
          "base_uri": "https://localhost:8080/"
        }
      },
      "source": [
        "forcast_2020['yhat']"
      ],
      "execution_count": 49,
      "outputs": [
        {
          "output_type": "execute_result",
          "data": {
            "text/plain": [
              "0       2909.483175\n",
              "1       2779.751548\n",
              "2       2702.090443\n",
              "3       2668.148353\n",
              "4       2687.836539\n",
              "           ...     \n",
              "8779    3432.955979\n",
              "8780    3329.200745\n",
              "8781    3163.596655\n",
              "8782    2952.388022\n",
              "8783    2734.208687\n",
              "Name: yhat, Length: 8784, dtype: float64"
            ]
          },
          "metadata": {
            "tags": []
          },
          "execution_count": 49
        }
      ]
    },
    {
      "cell_type": "code",
      "metadata": {
        "id": "S-OdeUQkwmn1"
      },
      "source": [
        "results = pd.DataFrame()"
      ],
      "execution_count": 50,
      "outputs": []
    },
    {
      "cell_type": "code",
      "metadata": {
        "id": "XK4sYReGwr3_",
        "outputId": "06158a5e-6ecc-47ef-ff68-ee8169ff414b",
        "colab": {
          "base_uri": "https://localhost:8080/",
          "height": 204
        }
      },
      "source": [
        "# 実測値\n",
        "results['t'] = df_2020['y']\n",
        "# 予測値\n",
        "results['y'] = forcast_2020['yhat']\n",
        "results['diff'] = results['t'] -results['y']\n",
        "results.head()"
      ],
      "execution_count": 54,
      "outputs": [
        {
          "output_type": "execute_result",
          "data": {
            "text/html": [
              "<div>\n",
              "<style scoped>\n",
              "    .dataframe tbody tr th:only-of-type {\n",
              "        vertical-align: middle;\n",
              "    }\n",
              "\n",
              "    .dataframe tbody tr th {\n",
              "        vertical-align: top;\n",
              "    }\n",
              "\n",
              "    .dataframe thead th {\n",
              "        text-align: right;\n",
              "    }\n",
              "</style>\n",
              "<table border=\"1\" class=\"dataframe\">\n",
              "  <thead>\n",
              "    <tr style=\"text-align: right;\">\n",
              "      <th></th>\n",
              "      <th>t</th>\n",
              "      <th>y</th>\n",
              "      <th>diff</th>\n",
              "    </tr>\n",
              "  </thead>\n",
              "  <tbody>\n",
              "    <tr>\n",
              "      <th>0</th>\n",
              "      <td>2857</td>\n",
              "      <td>2909.483175</td>\n",
              "      <td>-52.483175</td>\n",
              "    </tr>\n",
              "    <tr>\n",
              "      <th>1</th>\n",
              "      <td>2703</td>\n",
              "      <td>2779.751548</td>\n",
              "      <td>-76.751548</td>\n",
              "    </tr>\n",
              "    <tr>\n",
              "      <th>2</th>\n",
              "      <td>2602</td>\n",
              "      <td>2702.090443</td>\n",
              "      <td>-100.090443</td>\n",
              "    </tr>\n",
              "    <tr>\n",
              "      <th>3</th>\n",
              "      <td>2520</td>\n",
              "      <td>2668.148353</td>\n",
              "      <td>-148.148353</td>\n",
              "    </tr>\n",
              "    <tr>\n",
              "      <th>4</th>\n",
              "      <td>2464</td>\n",
              "      <td>2687.836539</td>\n",
              "      <td>-223.836539</td>\n",
              "    </tr>\n",
              "  </tbody>\n",
              "</table>\n",
              "</div>"
            ],
            "text/plain": [
              "      t            y        diff\n",
              "0  2857  2909.483175  -52.483175\n",
              "1  2703  2779.751548  -76.751548\n",
              "2  2602  2702.090443 -100.090443\n",
              "3  2520  2668.148353 -148.148353\n",
              "4  2464  2687.836539 -223.836539"
            ]
          },
          "metadata": {
            "tags": []
          },
          "execution_count": 54
        }
      ]
    },
    {
      "cell_type": "code",
      "metadata": {
        "id": "RdpoGZAkwy6a"
      },
      "source": [
        ""
      ],
      "execution_count": null,
      "outputs": []
    }
  ]
}